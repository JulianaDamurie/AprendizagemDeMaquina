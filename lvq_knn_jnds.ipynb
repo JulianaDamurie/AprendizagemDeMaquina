{
  "nbformat": 4,
  "nbformat_minor": 0,
  "metadata": {
    "colab": {
      "name": "lvq_knn_jnds.ipynb",
      "provenance": [],
      "collapsed_sections": [],
      "machine_shape": "hm",
      "authorship_tag": "ABX9TyPnZDnJyI+X88lYSXa8iZiJ",
      "include_colab_link": true
    },
    "kernelspec": {
      "display_name": "Python 3",
      "name": "python3"
    },
    "accelerator": "GPU"
  },
  "cells": [
    {
      "cell_type": "markdown",
      "metadata": {
        "id": "view-in-github",
        "colab_type": "text"
      },
      "source": [
        "<a href=\"https://colab.research.google.com/github/JulianaDamurie/AprendizagemDeMaquina/blob/main/lvq_knn_jnds.ipynb\" target=\"_parent\"><img src=\"https://colab.research.google.com/assets/colab-badge.svg\" alt=\"Open In Colab\"/></a>"
      ]
    },
    {
      "cell_type": "code",
      "metadata": {
        "id": "SGUXsqFCx4Op"
      },
      "source": [
        "# import\n",
        "import time\n",
        "from scipy.io import arff\n",
        "import pandas as pd\n",
        "import numpy as np\n",
        "from sklearn.model_selection import train_test_split  \n",
        "from sklearn.preprocessing import StandardScaler  \n",
        "from sklearn.neighbors import KNeighborsClassifier  \n",
        "from sklearn.metrics import classification_report, confusion_matrix  \n",
        "from sklearn.model_selection import KFold, StratifiedKFold\n",
        "import math\n",
        "import scipy\n",
        "from collections import Counter\n",
        "import seaborn as sns\n",
        "import matplotlib.pyplot as plt\n",
        "import matplotlib.font_manager\n",
        "from past.builtins import xrange\n",
        "from collections import OrderedDict\n",
        "from imblearn.under_sampling import RandomUnderSampler"
      ],
      "execution_count": null,
      "outputs": []
    },
    {
      "cell_type": "code",
      "metadata": {
        "id": "BnbupRkm61Pg"
      },
      "source": [
        "class KNN:\n",
        "    def __init__(self, k):\n",
        "        self.k = k\n",
        "        \n",
        "    def fit(self, X, y):\n",
        "        self.X_train = X\n",
        "        self.y_train = y\n",
        "\n",
        "        self.rAKNN = self.adaptive(X,y)\n",
        "        \n",
        "    def distance(self, X1, X2):\n",
        "        distance = scipy.spatial.distance.euclidean(X1, X2)\n",
        "        return distance\n",
        "\n",
        "    def adaptive(self,X1,X2):\n",
        "      d_a = {}\n",
        "      len_data = X1.shape[0]\n",
        "      epsilon = 0.0001\n",
        "\n",
        "      all_distances = scipy.spatial.distance.cdist(X1, X1, 'euclidean')\n",
        "\n",
        "      for i in range(len_data):\n",
        "        r_max = math.inf\n",
        "        for j in range(len_data):\n",
        "          if X2[i] != X2[j]:\n",
        "            r = all_distances[i][j] \n",
        "            if r < r_max:\n",
        "              r_max = r \n",
        "        d_a[i] = (r_max - epsilon)\n",
        "      return d_a\n",
        "    \n",
        "    def predict(self, X_test):\n",
        "        final_output = []\n",
        "        distances =  scipy.spatial.distance.cdist( self.X_train , X_test, 'euclidean')\n",
        "\n",
        "        for i in range(len(X_test)):\n",
        "            d = []\n",
        "            votes = []\n",
        "            for j in range(len(self.X_train)):\n",
        "                dist = np.absolute(distances[j][i] / self.rAKNN[j])\n",
        "                d.append([dist, j])\n",
        "            d.sort()\n",
        "            d = d[0:self.k]\n",
        "            for d, j in d:\n",
        "                votes.append(self.y_train[j])\n",
        "            ans = Counter(votes).most_common(1)[0][0]\n",
        "            final_output.append(ans)\n",
        "            \n",
        "        return final_output\n",
        "    \n",
        "    def score(self, X_test, y_test):\n",
        "        predictions = self.predict(X_test)\n",
        "        return (predictions == y_test).sum() / len(y_test)"
      ],
      "execution_count": null,
      "outputs": []
    },
    {
      "cell_type": "code",
      "metadata": {
        "id": "KSkgpQGcTCVY"
      },
      "source": [
        "class LVQ1:\n",
        "  def __init__(self, n):\n",
        "    self.n = n\n",
        "\n",
        "  def selection(self, X, Y):\n",
        "      self.X = X\n",
        "      self.Y = Y\n",
        "\n",
        "      len_class_one = np.count_nonzero(Y == \"false\")\n",
        "      len_class_two = np.count_nonzero(Y == \"true\")\n",
        "\n",
        "      n_one = int((len_class_one/len(X))*self.n)\n",
        "      n_two = self.n-n_one\n",
        "\n",
        "  \n",
        "      rus = RandomUnderSampler(return_indices=True)\n",
        "      X_rus, y_rus, id_rus = rus.fit_sample(X, Y)\n",
        "\n",
        "      X_class_one = X_rus[0:int(n_one)]\n",
        "      X_class_two = X_rus[len(X_rus)-int(n_two):len(X_rus)]\n",
        "\n",
        "      Y_class_one = y_rus[0:int(n_one)]\n",
        "      Y_class_two = y_rus[len(X_rus)-int(n_two):len(X_rus)]\n",
        "\n",
        "      self.X_p = np.concatenate((X_class_one,X_class_two),axis=0)\n",
        "      self.Y_p = np.concatenate((Y_class_one,Y_class_two),axis=0)\n",
        "\n",
        "  def fit(self,alpha,interactions):\n",
        "    classifier = KNeighborsClassifier(n_neighbors = 1,weights=\"uniform\") \n",
        "    for j in range(interactions):\n",
        "      for i in range(len(self.X)): \n",
        "        classifier.fit(self.X_p, self.Y_p) \n",
        "        ordered_prots = classifier.kneighbors(self.X[i].reshape(1, -1) , return_distance=True,n_neighbors=self.n)\n",
        "        dist_winner = ordered_prots[0][0][0]\n",
        "        index_winner = ordered_prots[1][0][0]\n",
        "\n",
        "        class_p = self.Y_p[index_winner]\n",
        "        class_x = self.Y[i]\n",
        "\n",
        "        if(class_p == class_x): \n",
        "          self.X_p[index_winner] = self.X_p[index_winner] + (alpha*(self.X[i]-self.X_p[index_winner]))\n",
        "        else:\n",
        "          self.X_p[index_winner] = self.X_p[index_winner] - (alpha*(self.X[i]-self.X_p[index_winner]))\n",
        "        \n",
        "    return self.X_p,self.Y_p\n",
        "      "
      ],
      "execution_count": null,
      "outputs": []
    },
    {
      "cell_type": "code",
      "metadata": {
        "id": "CeyVfnAtXej3"
      },
      "source": [
        "class LVQ21:\n",
        "  def __init__(self, n):\n",
        "    self.n = n\n",
        "\n",
        "  def selection(self, X, Y):\n",
        "      self.X = X\n",
        "      self.Y = Y\n",
        "\n",
        "      len_class_one = np.count_nonzero(Y == \"false\")\n",
        "      len_class_two = np.count_nonzero(Y == \"true\")\n",
        "\n",
        "      n_one = int((len_class_one/len(X))*self.n)\n",
        "      n_two = self.n-n_one\n",
        "\n",
        "      res_list_one = [i for i, value in enumerate(Y) if value == \"false\"]\n",
        "      res_list_two = [i for i, value in enumerate(Y) if value == \"true\"]\n",
        "\n",
        "      res_list_one = np.random.shuffle(res_list_one)\n",
        "      res_list_two = np.random.shuffle(res_list_two)\n",
        "\n",
        "      X_class_one = X[res_list_one][0]\n",
        "      X_class_two = X[res_list_two][0]\n",
        "\n",
        "      X_class_one = X_class_one[0:int(n_one)]\n",
        "      X_class_two = X_class_two[len(X_class_two)-int(n_two):len(X_class_two)]\n",
        "\n",
        "      Y_class_one = Y[res_list_one][0]\n",
        "      Y_class_two = Y[res_list_two][0]\n",
        "\n",
        "      Y_class_one = Y_class_one[0:int(n_one)]\n",
        "      Y_class_two = Y_class_two[len(Y_class_two)-int(n_two):len(Y_class_two)]\n",
        "\n",
        "      self.X_p = np.concatenate((X_class_one,X_class_two),axis=0)\n",
        "      self.Y_p = np.concatenate((Y_class_one,Y_class_two),axis=0)\n",
        "\n",
        "  def fit(self,alpha,w,interactions):\n",
        "    classifier = KNeighborsClassifier(n_neighbors = 2,weights=\"uniform\") \n",
        "    for j in range(interactions):\n",
        "      for i in range(len(self.X)): \n",
        "        classifier.fit(self.X_p, self.Y_p) \n",
        "        ordered_prots = classifier.kneighbors(self.X[i].reshape(1, -1) , return_distance=True,n_neighbors=self.n)\n",
        "        dist_winner = ordered_prots[0][0][0]\n",
        "        index_winner = ordered_prots[1][0][0]\n",
        "\n",
        "        dist_second = ordered_prots[0][0][1]\n",
        "        index_second = ordered_prots[1][0][1]\n",
        "\n",
        "        class_pi = self.Y_p[index_winner]\n",
        "        class_pj = self.Y_p[index_second]\n",
        "        class_x = self.Y[i]\n",
        "\n",
        "        if(self.janela(dist_winner,dist_second,w)):\n",
        "          if(class_pi != class_pj):\n",
        "            if(class_pi == class_x):\n",
        "              self.X_p[index_winner] = self.X_p[index_winner] + (alpha*(self.X[i]-self.X_p[index_winner]))\n",
        "              self.X_p[index_second] = self.X_p[index_second] - (alpha*(self.X[i]-self.X_p[index_second]))\n",
        "            else:\n",
        "              self.X_p[index_winner] = self.X_p[index_winner] - (alpha*(self.X[i]-self.X_p[index_winner]))\n",
        "              self.X_p[index_second] = self.X_p[index_second] + (alpha*(self.X[i]-self.X_p[index_second]))\n",
        "  \n",
        "    return self.X_p,self.Y_p\n",
        "\n",
        "  def janela(self,d_winner,d_second,w):\n",
        "    s = (1-w)/(1+w)\n",
        "    if(min((d_winner/(d_second+0.00000000000000001)),(d_second/(d_winner+0.00000000000000001))) > s):\n",
        "      return True\n",
        "    return False"
      ],
      "execution_count": null,
      "outputs": []
    },
    {
      "cell_type": "code",
      "metadata": {
        "id": "_atfoL41nHMj"
      },
      "source": [
        "class LVQ3:\n",
        "  def __init__(self, n):\n",
        "    self.n = n\n",
        "\n",
        "  def selection(self, X, Y):\n",
        "      self.X = X\n",
        "      self.Y = Y\n",
        "\n",
        "      len_class_one = np.count_nonzero(Y == \"false\")\n",
        "      len_class_two = np.count_nonzero(Y == \"true\")\n",
        "\n",
        "      n_one = int((len_class_one/len(X))*self.n)\n",
        "      n_two = self.n-n_one\n",
        "\n",
        "      res_list_one = [i for i, value in enumerate(Y) if value == \"false\"]\n",
        "      res_list_two = [i for i, value in enumerate(Y) if value == \"true\"]\n",
        "\n",
        "      res_list_one = np.random.shuffle(res_list_one)\n",
        "      res_list_two = np.random.shuffle(res_list_two)\n",
        "\n",
        "      X_class_one = X[res_list_one][0]\n",
        "      X_class_two = X[res_list_two][0]\n",
        "\n",
        "      X_class_one = X_class_one[0:int(n_one)]\n",
        "      X_class_two = X_class_two[len(X_class_two)-int(n_two):len(X_class_two)]\n",
        "\n",
        "      Y_class_one = Y[res_list_one][0]\n",
        "      Y_class_two = Y[res_list_two][0]\n",
        "\n",
        "      Y_class_one = Y_class_one[0:int(n_one)]\n",
        "      Y_class_two = Y_class_two[len(Y_class_two)-int(n_two):len(Y_class_two)]\n",
        "\n",
        "      self.X_p = np.concatenate((X_class_one,X_class_two),axis=0)\n",
        "      self.Y_p = np.concatenate((Y_class_one,Y_class_two),axis=0)\n",
        "\n",
        "  def fit(self,alpha,w,e,interactions):\n",
        "    classifier = KNeighborsClassifier(n_neighbors = 2,weights=\"uniform\") \n",
        "    for j in range(interactions):\n",
        "      for i in range(len(self.X)): \n",
        "        classifier.fit(self.X_p, self.Y_p) \n",
        "        ordered_prots = classifier.kneighbors(self.X[i].reshape(1, -1) , return_distance=True,n_neighbors=self.n)\n",
        "        dist_winner = ordered_prots[0][0][0]\n",
        "        index_winner = ordered_prots[1][0][0]\n",
        "\n",
        "        dist_second = ordered_prots[0][0][1]\n",
        "        index_second = ordered_prots[1][0][1]\n",
        "\n",
        "        class_pi = self.Y_p[index_winner]\n",
        "        class_pj = self.Y_p[index_second]\n",
        "        class_x = self.Y[i]\n",
        "\n",
        "        if(self.janela(dist_winner,dist_second,w)):\n",
        "          if(class_pi != class_pj):\n",
        "            if(class_pi == class_x):\n",
        "              self.X_p[index_winner] = self.X_p[index_winner] + (alpha*(self.X[i]-self.X_p[index_winner]))\n",
        "              self.X_p[index_second] = self.X_p[index_second] - (alpha*(self.X[i]-self.X_p[index_second]))\n",
        "            else:\n",
        "              self.X_p[index_winner] = self.X_p[index_winner] - (alpha*(self.X[i]-self.X_p[index_winner]))\n",
        "              self.X_p[index_second] = self.X_p[index_second] + (alpha*(self.X[i]-self.X_p[index_second]))\n",
        "          elif(class_pi == class_pj & class_pi == class_x):\n",
        "            self.X_p[index_winner] = self.X_p[index_winner] + e*(alpha*(self.X[i]-self.X_p[index_winner]))\n",
        "            self.X_p[index_second] = self.X_p[index_second] + e*(alpha*(self.X[i]-self.X_p[index_second]))\n",
        "    return self.X_p,self.Y_p\n",
        "\n",
        "  def janela(self,d_winner,d_second,w):\n",
        "    s = (1-w)/(1+w)\n",
        "    if(min((d_winner/(d_second+0.00000000000000001)),(d_second/(d_winner+0.00000000000000001))) > s):\n",
        "      return True\n",
        "    return False"
      ],
      "execution_count": null,
      "outputs": []
    },
    {
      "cell_type": "code",
      "metadata": {
        "colab": {
          "base_uri": "https://localhost:8080/",
          "height": 439
        },
        "id": "3Wa-aOU_0d5y",
        "outputId": "f55833a8-3562-4ce0-ca68-7bc93d9357b2"
      },
      "source": [
        "\n",
        "# read first data set\n",
        "dataset = False\n",
        "\n",
        "if dataset:\n",
        "  data, meta = arff.loadarff('/content/jm1.arff')\n",
        "\n",
        "  df1 = pd.DataFrame(data)\n",
        "\n",
        "  df1[\"defects\"] = df1[\"defects\"].astype(str).str.replace(\"b\",\"\")\n",
        "  df1[\"defects\"] = df1[\"defects\"].astype(str).str.replace(\"'\",\"\")\n",
        "else:\n",
        "  data, meta = arff.loadarff('/content/kc2.arff')\n",
        "\n",
        "  df1 = pd.DataFrame(data)\n",
        "\n",
        "  df1[\"problems\"] = df1[\"problems\"].astype(str).str.replace(\"b\",\"\")\n",
        "  df1[\"problems\"] = df1[\"problems\"].astype(str).str.replace(\"'\",\"\")\n",
        "  df1[\"problems\"] = df1[\"problems\"].astype(str).str.replace(\"yes\",\"true\")\n",
        "  df1[\"problems\"] = df1[\"problems\"].astype(str).str.replace(\"no\",\"false\")\n",
        "\n",
        "df1 = df1.dropna(axis=0, how='any', thresh=None, subset=None, inplace=False)\n",
        "\n",
        "df1"
      ],
      "execution_count": null,
      "outputs": [
        {
          "output_type": "execute_result",
          "data": {
            "text/html": [
              "<div>\n",
              "<style scoped>\n",
              "    .dataframe tbody tr th:only-of-type {\n",
              "        vertical-align: middle;\n",
              "    }\n",
              "\n",
              "    .dataframe tbody tr th {\n",
              "        vertical-align: top;\n",
              "    }\n",
              "\n",
              "    .dataframe thead th {\n",
              "        text-align: right;\n",
              "    }\n",
              "</style>\n",
              "<table border=\"1\" class=\"dataframe\">\n",
              "  <thead>\n",
              "    <tr style=\"text-align: right;\">\n",
              "      <th></th>\n",
              "      <th>loc</th>\n",
              "      <th>v(g)</th>\n",
              "      <th>ev(g)</th>\n",
              "      <th>iv(g)</th>\n",
              "      <th>n</th>\n",
              "      <th>v</th>\n",
              "      <th>l</th>\n",
              "      <th>d</th>\n",
              "      <th>i</th>\n",
              "      <th>e</th>\n",
              "      <th>b</th>\n",
              "      <th>t</th>\n",
              "      <th>lOCode</th>\n",
              "      <th>lOComment</th>\n",
              "      <th>lOBlank</th>\n",
              "      <th>lOCodeAndComment</th>\n",
              "      <th>uniq_Op</th>\n",
              "      <th>uniq_Opnd</th>\n",
              "      <th>total_Op</th>\n",
              "      <th>total_Opnd</th>\n",
              "      <th>branchCount</th>\n",
              "      <th>problems</th>\n",
              "    </tr>\n",
              "  </thead>\n",
              "  <tbody>\n",
              "    <tr>\n",
              "      <th>0</th>\n",
              "      <td>1.1</td>\n",
              "      <td>1.4</td>\n",
              "      <td>1.4</td>\n",
              "      <td>1.4</td>\n",
              "      <td>1.3</td>\n",
              "      <td>1.30</td>\n",
              "      <td>1.30</td>\n",
              "      <td>1.30</td>\n",
              "      <td>1.30</td>\n",
              "      <td>1.30</td>\n",
              "      <td>1.30</td>\n",
              "      <td>1.30</td>\n",
              "      <td>2.0</td>\n",
              "      <td>2.0</td>\n",
              "      <td>2.0</td>\n",
              "      <td>2.0</td>\n",
              "      <td>1.2</td>\n",
              "      <td>1.2</td>\n",
              "      <td>1.2</td>\n",
              "      <td>1.2</td>\n",
              "      <td>1.4</td>\n",
              "      <td>false</td>\n",
              "    </tr>\n",
              "    <tr>\n",
              "      <th>1</th>\n",
              "      <td>1.0</td>\n",
              "      <td>1.0</td>\n",
              "      <td>1.0</td>\n",
              "      <td>1.0</td>\n",
              "      <td>1.0</td>\n",
              "      <td>1.00</td>\n",
              "      <td>1.00</td>\n",
              "      <td>1.00</td>\n",
              "      <td>1.00</td>\n",
              "      <td>1.00</td>\n",
              "      <td>1.00</td>\n",
              "      <td>1.00</td>\n",
              "      <td>1.0</td>\n",
              "      <td>1.0</td>\n",
              "      <td>1.0</td>\n",
              "      <td>1.0</td>\n",
              "      <td>1.0</td>\n",
              "      <td>1.0</td>\n",
              "      <td>1.0</td>\n",
              "      <td>1.0</td>\n",
              "      <td>1.0</td>\n",
              "      <td>true</td>\n",
              "    </tr>\n",
              "    <tr>\n",
              "      <th>2</th>\n",
              "      <td>415.0</td>\n",
              "      <td>59.0</td>\n",
              "      <td>50.0</td>\n",
              "      <td>51.0</td>\n",
              "      <td>1159.0</td>\n",
              "      <td>8411.31</td>\n",
              "      <td>0.01</td>\n",
              "      <td>103.53</td>\n",
              "      <td>81.24</td>\n",
              "      <td>870848.58</td>\n",
              "      <td>2.80</td>\n",
              "      <td>48380.48</td>\n",
              "      <td>359.0</td>\n",
              "      <td>35.0</td>\n",
              "      <td>9.0</td>\n",
              "      <td>10.0</td>\n",
              "      <td>47.0</td>\n",
              "      <td>106.0</td>\n",
              "      <td>692.0</td>\n",
              "      <td>467.0</td>\n",
              "      <td>106.0</td>\n",
              "      <td>true</td>\n",
              "    </tr>\n",
              "    <tr>\n",
              "      <th>3</th>\n",
              "      <td>230.0</td>\n",
              "      <td>33.0</td>\n",
              "      <td>10.0</td>\n",
              "      <td>16.0</td>\n",
              "      <td>575.0</td>\n",
              "      <td>3732.82</td>\n",
              "      <td>0.03</td>\n",
              "      <td>39.82</td>\n",
              "      <td>93.74</td>\n",
              "      <td>148644.06</td>\n",
              "      <td>1.24</td>\n",
              "      <td>8258.00</td>\n",
              "      <td>174.0</td>\n",
              "      <td>15.0</td>\n",
              "      <td>34.0</td>\n",
              "      <td>5.0</td>\n",
              "      <td>23.0</td>\n",
              "      <td>67.0</td>\n",
              "      <td>343.0</td>\n",
              "      <td>232.0</td>\n",
              "      <td>65.0</td>\n",
              "      <td>true</td>\n",
              "    </tr>\n",
              "    <tr>\n",
              "      <th>4</th>\n",
              "      <td>175.0</td>\n",
              "      <td>26.0</td>\n",
              "      <td>12.0</td>\n",
              "      <td>13.0</td>\n",
              "      <td>500.0</td>\n",
              "      <td>3123.96</td>\n",
              "      <td>0.03</td>\n",
              "      <td>29.48</td>\n",
              "      <td>105.96</td>\n",
              "      <td>92103.07</td>\n",
              "      <td>1.04</td>\n",
              "      <td>5116.84</td>\n",
              "      <td>142.0</td>\n",
              "      <td>7.0</td>\n",
              "      <td>19.0</td>\n",
              "      <td>4.0</td>\n",
              "      <td>18.0</td>\n",
              "      <td>58.0</td>\n",
              "      <td>310.0</td>\n",
              "      <td>190.0</td>\n",
              "      <td>51.0</td>\n",
              "      <td>true</td>\n",
              "    </tr>\n",
              "    <tr>\n",
              "      <th>...</th>\n",
              "      <td>...</td>\n",
              "      <td>...</td>\n",
              "      <td>...</td>\n",
              "      <td>...</td>\n",
              "      <td>...</td>\n",
              "      <td>...</td>\n",
              "      <td>...</td>\n",
              "      <td>...</td>\n",
              "      <td>...</td>\n",
              "      <td>...</td>\n",
              "      <td>...</td>\n",
              "      <td>...</td>\n",
              "      <td>...</td>\n",
              "      <td>...</td>\n",
              "      <td>...</td>\n",
              "      <td>...</td>\n",
              "      <td>...</td>\n",
              "      <td>...</td>\n",
              "      <td>...</td>\n",
              "      <td>...</td>\n",
              "      <td>...</td>\n",
              "      <td>...</td>\n",
              "    </tr>\n",
              "    <tr>\n",
              "      <th>517</th>\n",
              "      <td>4.0</td>\n",
              "      <td>1.0</td>\n",
              "      <td>1.0</td>\n",
              "      <td>1.0</td>\n",
              "      <td>5.0</td>\n",
              "      <td>11.61</td>\n",
              "      <td>0.50</td>\n",
              "      <td>2.00</td>\n",
              "      <td>5.80</td>\n",
              "      <td>23.22</td>\n",
              "      <td>0.00</td>\n",
              "      <td>1.29</td>\n",
              "      <td>2.0</td>\n",
              "      <td>0.0</td>\n",
              "      <td>0.0</td>\n",
              "      <td>0.0</td>\n",
              "      <td>4.0</td>\n",
              "      <td>1.0</td>\n",
              "      <td>4.0</td>\n",
              "      <td>1.0</td>\n",
              "      <td>1.0</td>\n",
              "      <td>true</td>\n",
              "    </tr>\n",
              "    <tr>\n",
              "      <th>518</th>\n",
              "      <td>4.0</td>\n",
              "      <td>1.0</td>\n",
              "      <td>1.0</td>\n",
              "      <td>1.0</td>\n",
              "      <td>4.0</td>\n",
              "      <td>8.00</td>\n",
              "      <td>0.67</td>\n",
              "      <td>1.50</td>\n",
              "      <td>5.33</td>\n",
              "      <td>12.00</td>\n",
              "      <td>0.00</td>\n",
              "      <td>0.67</td>\n",
              "      <td>2.0</td>\n",
              "      <td>0.0</td>\n",
              "      <td>0.0</td>\n",
              "      <td>0.0</td>\n",
              "      <td>3.0</td>\n",
              "      <td>1.0</td>\n",
              "      <td>3.0</td>\n",
              "      <td>1.0</td>\n",
              "      <td>1.0</td>\n",
              "      <td>true</td>\n",
              "    </tr>\n",
              "    <tr>\n",
              "      <th>519</th>\n",
              "      <td>4.0</td>\n",
              "      <td>1.0</td>\n",
              "      <td>1.0</td>\n",
              "      <td>1.0</td>\n",
              "      <td>4.0</td>\n",
              "      <td>8.00</td>\n",
              "      <td>0.67</td>\n",
              "      <td>1.50</td>\n",
              "      <td>5.33</td>\n",
              "      <td>12.00</td>\n",
              "      <td>0.00</td>\n",
              "      <td>0.67</td>\n",
              "      <td>2.0</td>\n",
              "      <td>0.0</td>\n",
              "      <td>0.0</td>\n",
              "      <td>0.0</td>\n",
              "      <td>3.0</td>\n",
              "      <td>1.0</td>\n",
              "      <td>3.0</td>\n",
              "      <td>1.0</td>\n",
              "      <td>1.0</td>\n",
              "      <td>true</td>\n",
              "    </tr>\n",
              "    <tr>\n",
              "      <th>520</th>\n",
              "      <td>4.0</td>\n",
              "      <td>1.0</td>\n",
              "      <td>1.0</td>\n",
              "      <td>1.0</td>\n",
              "      <td>5.0</td>\n",
              "      <td>11.61</td>\n",
              "      <td>0.67</td>\n",
              "      <td>1.50</td>\n",
              "      <td>7.74</td>\n",
              "      <td>17.41</td>\n",
              "      <td>0.00</td>\n",
              "      <td>0.97</td>\n",
              "      <td>2.0</td>\n",
              "      <td>0.0</td>\n",
              "      <td>0.0</td>\n",
              "      <td>0.0</td>\n",
              "      <td>3.0</td>\n",
              "      <td>2.0</td>\n",
              "      <td>3.0</td>\n",
              "      <td>2.0</td>\n",
              "      <td>1.0</td>\n",
              "      <td>true</td>\n",
              "    </tr>\n",
              "    <tr>\n",
              "      <th>521</th>\n",
              "      <td>3.0</td>\n",
              "      <td>1.0</td>\n",
              "      <td>1.0</td>\n",
              "      <td>1.0</td>\n",
              "      <td>1.0</td>\n",
              "      <td>0.00</td>\n",
              "      <td>0.00</td>\n",
              "      <td>0.00</td>\n",
              "      <td>0.00</td>\n",
              "      <td>0.00</td>\n",
              "      <td>0.00</td>\n",
              "      <td>0.00</td>\n",
              "      <td>1.0</td>\n",
              "      <td>0.0</td>\n",
              "      <td>0.0</td>\n",
              "      <td>0.0</td>\n",
              "      <td>1.0</td>\n",
              "      <td>0.0</td>\n",
              "      <td>1.0</td>\n",
              "      <td>0.0</td>\n",
              "      <td>1.0</td>\n",
              "      <td>true</td>\n",
              "    </tr>\n",
              "  </tbody>\n",
              "</table>\n",
              "<p>522 rows × 22 columns</p>\n",
              "</div>"
            ],
            "text/plain": [
              "       loc  v(g)  ev(g)  iv(g)  ...  total_Op  total_Opnd  branchCount  problems\n",
              "0      1.1   1.4    1.4    1.4  ...       1.2         1.2          1.4     false\n",
              "1      1.0   1.0    1.0    1.0  ...       1.0         1.0          1.0      true\n",
              "2    415.0  59.0   50.0   51.0  ...     692.0       467.0        106.0      true\n",
              "3    230.0  33.0   10.0   16.0  ...     343.0       232.0         65.0      true\n",
              "4    175.0  26.0   12.0   13.0  ...     310.0       190.0         51.0      true\n",
              "..     ...   ...    ...    ...  ...       ...         ...          ...       ...\n",
              "517    4.0   1.0    1.0    1.0  ...       4.0         1.0          1.0      true\n",
              "518    4.0   1.0    1.0    1.0  ...       3.0         1.0          1.0      true\n",
              "519    4.0   1.0    1.0    1.0  ...       3.0         1.0          1.0      true\n",
              "520    4.0   1.0    1.0    1.0  ...       3.0         2.0          1.0      true\n",
              "521    3.0   1.0    1.0    1.0  ...       1.0         0.0          1.0      true\n",
              "\n",
              "[522 rows x 22 columns]"
            ]
          },
          "metadata": {
            "tags": []
          },
          "execution_count": 38
        }
      ]
    },
    {
      "cell_type": "code",
      "metadata": {
        "id": "xEG0Z8mN39TA"
      },
      "source": [
        "# divide into x_train, y_train, x_test and y_test\n",
        "\n",
        "x_df1 = np.array(df1.iloc[:, :-1].values)\n",
        "y_df1 = np.array(df1.iloc[:, 21].values)"
      ],
      "execution_count": null,
      "outputs": []
    },
    {
      "cell_type": "code",
      "metadata": {
        "id": "-XcXJ4CT9dbe"
      },
      "source": [
        "skf = StratifiedKFold(n_splits=5,shuffle=True)\n",
        "scaler = StandardScaler()\n",
        "\n",
        "# n é o número de protótipos \n",
        "n = 30"
      ],
      "execution_count": null,
      "outputs": []
    },
    {
      "cell_type": "code",
      "metadata": {
        "colab": {
          "base_uri": "https://localhost:8080/"
        },
        "id": "PMZo2c4wYLgD",
        "outputId": "fd8a5537-fbc6-4f32-db79-d5328255d9f8"
      },
      "source": [
        "k_list = [1,2,3,5]\n",
        "dict_results_sem = {}\n",
        "acc_peso = {}\n",
        "\n",
        "lvq1 = LVQ1(n)\n",
        "lvq21 = LVQ21(n)\n",
        "lvq3 = LVQ3(n)\n",
        "for k in k_list :\n",
        "  i = 0\n",
        "  sum = 0 \n",
        "  recall_true = 0\n",
        "  recall_false = 0\n",
        "  precision_true = 0\n",
        "  precision_false = 0\n",
        "  tempo_init = time.time()\n",
        "  for train_index, test_index in  skf.split(x_df1,y_df1):\n",
        "    xdf1_train, xdf1_test = x_df1[train_index], x_df1[test_index]\n",
        "    ydf1_train, ydf1_test = y_df1[train_index], y_df1[test_index]\n",
        "\n",
        "    scaler.fit(xdf1_train)\n",
        "\n",
        "    xdf1_train = scaler.transform(xdf1_train)\n",
        "\n",
        "    lvq1.selection(xdf1_train,ydf1_train)\n",
        "    xdf1_train,ydf1_train = lvq1.fit(0.1,100)\n",
        "\n",
        "    xdf1_test = scaler.transform(xdf1_test) \n",
        "\n",
        "    classifier = KNeighborsClassifier(n_neighbors = k,weights=\"uniform\")  \n",
        "    classifier.fit(xdf1_train, ydf1_train)  \n",
        "    \n",
        "    tempo_treino = time.time() - tempo_init \n",
        "    tempo_init = time.time()\n",
        "\n",
        "    ydf1_pred = classifier.predict(xdf1_test)\n",
        "\n",
        "    #print(confusion_matrix(ydf1_test, ydf1_pred))  \n",
        "    #print(classification_report(ydf1_test, ydf1_pred))\n",
        "    dict_results_sem[k,i] = classification_report(ydf1_test, ydf1_pred,output_dict=True)['accuracy']  \n",
        "\n",
        "    sum += classification_report(ydf1_test, ydf1_pred,output_dict=True)['accuracy'] \n",
        "    recall_true += classification_report(ydf1_test, ydf1_pred,output_dict=True)['true']['recall']\n",
        "    precision_true += classification_report(ydf1_test, ydf1_pred,output_dict=True)['true']['precision']\n",
        "\n",
        "    recall_false += classification_report(ydf1_test, ydf1_pred,output_dict=True)['false']['recall']\n",
        "    precision_false += classification_report(ydf1_test, ydf1_pred,output_dict=True)['false']['precision']\n",
        "\n",
        "    print(\"k------\",k,i)\n",
        "    print(classification_report(ydf1_test, ydf1_pred))\n",
        "    i+=1\n",
        "  tempo = time.time() - tempo_init \n",
        "  acc_peso[k,0] = [sum/5,k,\"LVQ1 + k-NN sem peso\",recall_true/5,precision_true/5,recall_false/5,precision_false/5,tempo_treino,tempo/5]\n"
      ],
      "execution_count": null,
      "outputs": [
        {
          "output_type": "stream",
          "text": [
            "/usr/local/lib/python3.7/dist-packages/sklearn/utils/deprecation.py:87: FutureWarning: Function safe_indexing is deprecated; safe_indexing is deprecated in version 0.22 and will be removed in version 0.24.\n",
            "  warnings.warn(msg, category=FutureWarning)\n"
          ],
          "name": "stderr"
        },
        {
          "output_type": "stream",
          "text": [
            "k------ 1 0\n",
            "              precision    recall  f1-score   support\n",
            "\n",
            "       false       1.00      0.29      0.45        83\n",
            "        true       0.27      1.00      0.43        22\n",
            "\n",
            "    accuracy                           0.44       105\n",
            "   macro avg       0.64      0.64      0.44       105\n",
            "weighted avg       0.85      0.44      0.44       105\n",
            "\n"
          ],
          "name": "stdout"
        },
        {
          "output_type": "stream",
          "text": [
            "/usr/local/lib/python3.7/dist-packages/sklearn/utils/deprecation.py:87: FutureWarning: Function safe_indexing is deprecated; safe_indexing is deprecated in version 0.22 and will be removed in version 0.24.\n",
            "  warnings.warn(msg, category=FutureWarning)\n"
          ],
          "name": "stderr"
        },
        {
          "output_type": "stream",
          "text": [
            "k------ 1 1\n",
            "              precision    recall  f1-score   support\n",
            "\n",
            "       false       0.92      0.65      0.76        83\n",
            "        true       0.37      0.77      0.50        22\n",
            "\n",
            "    accuracy                           0.68       105\n",
            "   macro avg       0.64      0.71      0.63       105\n",
            "weighted avg       0.80      0.68      0.71       105\n",
            "\n"
          ],
          "name": "stdout"
        },
        {
          "output_type": "stream",
          "text": [
            "/usr/local/lib/python3.7/dist-packages/sklearn/utils/deprecation.py:87: FutureWarning: Function safe_indexing is deprecated; safe_indexing is deprecated in version 0.22 and will be removed in version 0.24.\n",
            "  warnings.warn(msg, category=FutureWarning)\n"
          ],
          "name": "stderr"
        },
        {
          "output_type": "stream",
          "text": [
            "k------ 1 2\n",
            "              precision    recall  f1-score   support\n",
            "\n",
            "       false       1.00      0.42      0.59        83\n",
            "        true       0.30      1.00      0.47        21\n",
            "\n",
            "    accuracy                           0.54       104\n",
            "   macro avg       0.65      0.71      0.53       104\n",
            "weighted avg       0.86      0.54      0.57       104\n",
            "\n"
          ],
          "name": "stdout"
        },
        {
          "output_type": "stream",
          "text": [
            "/usr/local/lib/python3.7/dist-packages/sklearn/utils/deprecation.py:87: FutureWarning: Function safe_indexing is deprecated; safe_indexing is deprecated in version 0.22 and will be removed in version 0.24.\n",
            "  warnings.warn(msg, category=FutureWarning)\n"
          ],
          "name": "stderr"
        },
        {
          "output_type": "stream",
          "text": [
            "k------ 1 3\n",
            "              precision    recall  f1-score   support\n",
            "\n",
            "       false       0.92      0.57      0.70        83\n",
            "        true       0.32      0.81      0.46        21\n",
            "\n",
            "    accuracy                           0.62       104\n",
            "   macro avg       0.62      0.69      0.58       104\n",
            "weighted avg       0.80      0.62      0.65       104\n",
            "\n"
          ],
          "name": "stdout"
        },
        {
          "output_type": "stream",
          "text": [
            "/usr/local/lib/python3.7/dist-packages/sklearn/utils/deprecation.py:87: FutureWarning: Function safe_indexing is deprecated; safe_indexing is deprecated in version 0.22 and will be removed in version 0.24.\n",
            "  warnings.warn(msg, category=FutureWarning)\n"
          ],
          "name": "stderr"
        },
        {
          "output_type": "stream",
          "text": [
            "k------ 1 4\n",
            "              precision    recall  f1-score   support\n",
            "\n",
            "       false       0.91      0.83      0.87        83\n",
            "        true       0.50      0.67      0.57        21\n",
            "\n",
            "    accuracy                           0.80       104\n",
            "   macro avg       0.70      0.75      0.72       104\n",
            "weighted avg       0.83      0.80      0.81       104\n",
            "\n"
          ],
          "name": "stdout"
        },
        {
          "output_type": "stream",
          "text": [
            "/usr/local/lib/python3.7/dist-packages/sklearn/utils/deprecation.py:87: FutureWarning: Function safe_indexing is deprecated; safe_indexing is deprecated in version 0.22 and will be removed in version 0.24.\n",
            "  warnings.warn(msg, category=FutureWarning)\n"
          ],
          "name": "stderr"
        },
        {
          "output_type": "stream",
          "text": [
            "k------ 2 0\n",
            "              precision    recall  f1-score   support\n",
            "\n",
            "       false       0.86      0.94      0.90        83\n",
            "        true       0.64      0.41      0.50        22\n",
            "\n",
            "    accuracy                           0.83       105\n",
            "   macro avg       0.75      0.67      0.70       105\n",
            "weighted avg       0.81      0.83      0.81       105\n",
            "\n"
          ],
          "name": "stdout"
        },
        {
          "output_type": "stream",
          "text": [
            "/usr/local/lib/python3.7/dist-packages/sklearn/utils/deprecation.py:87: FutureWarning: Function safe_indexing is deprecated; safe_indexing is deprecated in version 0.22 and will be removed in version 0.24.\n",
            "  warnings.warn(msg, category=FutureWarning)\n"
          ],
          "name": "stderr"
        },
        {
          "output_type": "stream",
          "text": [
            "k------ 2 1\n",
            "              precision    recall  f1-score   support\n",
            "\n",
            "       false       0.84      0.95      0.89        83\n",
            "        true       0.64      0.32      0.42        22\n",
            "\n",
            "    accuracy                           0.82       105\n",
            "   macro avg       0.74      0.63      0.66       105\n",
            "weighted avg       0.80      0.82      0.79       105\n",
            "\n"
          ],
          "name": "stdout"
        },
        {
          "output_type": "stream",
          "text": [
            "/usr/local/lib/python3.7/dist-packages/sklearn/utils/deprecation.py:87: FutureWarning: Function safe_indexing is deprecated; safe_indexing is deprecated in version 0.22 and will be removed in version 0.24.\n",
            "  warnings.warn(msg, category=FutureWarning)\n"
          ],
          "name": "stderr"
        },
        {
          "output_type": "stream",
          "text": [
            "k------ 2 2\n",
            "              precision    recall  f1-score   support\n",
            "\n",
            "       false       0.84      0.92      0.88        83\n",
            "        true       0.50      0.33      0.40        21\n",
            "\n",
            "    accuracy                           0.80       104\n",
            "   macro avg       0.67      0.62      0.64       104\n",
            "weighted avg       0.77      0.80      0.78       104\n",
            "\n"
          ],
          "name": "stdout"
        },
        {
          "output_type": "stream",
          "text": [
            "/usr/local/lib/python3.7/dist-packages/sklearn/utils/deprecation.py:87: FutureWarning: Function safe_indexing is deprecated; safe_indexing is deprecated in version 0.22 and will be removed in version 0.24.\n",
            "  warnings.warn(msg, category=FutureWarning)\n"
          ],
          "name": "stderr"
        },
        {
          "output_type": "stream",
          "text": [
            "k------ 2 3\n",
            "              precision    recall  f1-score   support\n",
            "\n",
            "       false       0.82      1.00      0.90        83\n",
            "        true       1.00      0.14      0.25        21\n",
            "\n",
            "    accuracy                           0.83       104\n",
            "   macro avg       0.91      0.57      0.58       104\n",
            "weighted avg       0.86      0.83      0.77       104\n",
            "\n"
          ],
          "name": "stdout"
        },
        {
          "output_type": "stream",
          "text": [
            "/usr/local/lib/python3.7/dist-packages/sklearn/utils/deprecation.py:87: FutureWarning: Function safe_indexing is deprecated; safe_indexing is deprecated in version 0.22 and will be removed in version 0.24.\n",
            "  warnings.warn(msg, category=FutureWarning)\n",
            "/usr/local/lib/python3.7/dist-packages/sklearn/metrics/_classification.py:1272: UndefinedMetricWarning: Precision and F-score are ill-defined and being set to 0.0 in labels with no predicted samples. Use `zero_division` parameter to control this behavior.\n",
            "  _warn_prf(average, modifier, msg_start, len(result))\n",
            "/usr/local/lib/python3.7/dist-packages/sklearn/utils/deprecation.py:87: FutureWarning: Function safe_indexing is deprecated; safe_indexing is deprecated in version 0.22 and will be removed in version 0.24.\n",
            "  warnings.warn(msg, category=FutureWarning)\n"
          ],
          "name": "stderr"
        },
        {
          "output_type": "stream",
          "text": [
            "k------ 2 4\n",
            "              precision    recall  f1-score   support\n",
            "\n",
            "       false       0.80      1.00      0.89        83\n",
            "        true       0.00      0.00      0.00        21\n",
            "\n",
            "    accuracy                           0.80       104\n",
            "   macro avg       0.40      0.50      0.44       104\n",
            "weighted avg       0.64      0.80      0.71       104\n",
            "\n",
            "k------ 3 0\n",
            "              precision    recall  f1-score   support\n",
            "\n",
            "       false       0.88      0.89      0.89        83\n",
            "        true       0.57      0.55      0.56        22\n",
            "\n",
            "    accuracy                           0.82       105\n",
            "   macro avg       0.73      0.72      0.72       105\n",
            "weighted avg       0.82      0.82      0.82       105\n",
            "\n"
          ],
          "name": "stdout"
        },
        {
          "output_type": "stream",
          "text": [
            "/usr/local/lib/python3.7/dist-packages/sklearn/utils/deprecation.py:87: FutureWarning: Function safe_indexing is deprecated; safe_indexing is deprecated in version 0.22 and will be removed in version 0.24.\n",
            "  warnings.warn(msg, category=FutureWarning)\n"
          ],
          "name": "stderr"
        },
        {
          "output_type": "stream",
          "text": [
            "k------ 3 1\n",
            "              precision    recall  f1-score   support\n",
            "\n",
            "       false       0.76      0.78      0.77        83\n",
            "        true       0.05      0.05      0.05        22\n",
            "\n",
            "    accuracy                           0.63       105\n",
            "   macro avg       0.40      0.41      0.41       105\n",
            "weighted avg       0.61      0.63      0.62       105\n",
            "\n"
          ],
          "name": "stdout"
        },
        {
          "output_type": "stream",
          "text": [
            "/usr/local/lib/python3.7/dist-packages/sklearn/utils/deprecation.py:87: FutureWarning: Function safe_indexing is deprecated; safe_indexing is deprecated in version 0.22 and will be removed in version 0.24.\n",
            "  warnings.warn(msg, category=FutureWarning)\n"
          ],
          "name": "stderr"
        },
        {
          "output_type": "stream",
          "text": [
            "k------ 3 2\n",
            "              precision    recall  f1-score   support\n",
            "\n",
            "       false       0.82      0.59      0.69        83\n",
            "        true       0.23      0.48      0.31        21\n",
            "\n",
            "    accuracy                           0.57       104\n",
            "   macro avg       0.52      0.53      0.50       104\n",
            "weighted avg       0.70      0.57      0.61       104\n",
            "\n"
          ],
          "name": "stdout"
        },
        {
          "output_type": "stream",
          "text": [
            "/usr/local/lib/python3.7/dist-packages/sklearn/utils/deprecation.py:87: FutureWarning: Function safe_indexing is deprecated; safe_indexing is deprecated in version 0.22 and will be removed in version 0.24.\n",
            "  warnings.warn(msg, category=FutureWarning)\n",
            "/usr/local/lib/python3.7/dist-packages/sklearn/metrics/_classification.py:1272: UndefinedMetricWarning: Precision and F-score are ill-defined and being set to 0.0 in labels with no predicted samples. Use `zero_division` parameter to control this behavior.\n",
            "  _warn_prf(average, modifier, msg_start, len(result))\n",
            "/usr/local/lib/python3.7/dist-packages/sklearn/utils/deprecation.py:87: FutureWarning: Function safe_indexing is deprecated; safe_indexing is deprecated in version 0.22 and will be removed in version 0.24.\n",
            "  warnings.warn(msg, category=FutureWarning)\n"
          ],
          "name": "stderr"
        },
        {
          "output_type": "stream",
          "text": [
            "k------ 3 3\n",
            "              precision    recall  f1-score   support\n",
            "\n",
            "       false       0.80      1.00      0.89        83\n",
            "        true       0.00      0.00      0.00        21\n",
            "\n",
            "    accuracy                           0.80       104\n",
            "   macro avg       0.40      0.50      0.44       104\n",
            "weighted avg       0.64      0.80      0.71       104\n",
            "\n",
            "k------ 3 4\n",
            "              precision    recall  f1-score   support\n",
            "\n",
            "       false       0.85      0.69      0.76        83\n",
            "        true       0.30      0.52      0.38        21\n",
            "\n",
            "    accuracy                           0.65       104\n",
            "   macro avg       0.57      0.61      0.57       104\n",
            "weighted avg       0.74      0.65      0.68       104\n",
            "\n"
          ],
          "name": "stdout"
        },
        {
          "output_type": "stream",
          "text": [
            "/usr/local/lib/python3.7/dist-packages/sklearn/utils/deprecation.py:87: FutureWarning: Function safe_indexing is deprecated; safe_indexing is deprecated in version 0.22 and will be removed in version 0.24.\n",
            "  warnings.warn(msg, category=FutureWarning)\n"
          ],
          "name": "stderr"
        },
        {
          "output_type": "stream",
          "text": [
            "k------ 5 0\n",
            "              precision    recall  f1-score   support\n",
            "\n",
            "       false       0.71      0.58      0.64        83\n",
            "        true       0.05      0.09      0.07        22\n",
            "\n",
            "    accuracy                           0.48       105\n",
            "   macro avg       0.38      0.33      0.35       105\n",
            "weighted avg       0.57      0.48      0.52       105\n",
            "\n"
          ],
          "name": "stdout"
        },
        {
          "output_type": "stream",
          "text": [
            "/usr/local/lib/python3.7/dist-packages/sklearn/utils/deprecation.py:87: FutureWarning: Function safe_indexing is deprecated; safe_indexing is deprecated in version 0.22 and will be removed in version 0.24.\n",
            "  warnings.warn(msg, category=FutureWarning)\n"
          ],
          "name": "stderr"
        },
        {
          "output_type": "stream",
          "text": [
            "k------ 5 1\n",
            "              precision    recall  f1-score   support\n",
            "\n",
            "       false       0.77      0.80      0.78        83\n",
            "        true       0.11      0.09      0.10        22\n",
            "\n",
            "    accuracy                           0.65       105\n",
            "   macro avg       0.44      0.44      0.44       105\n",
            "weighted avg       0.63      0.65      0.64       105\n",
            "\n"
          ],
          "name": "stdout"
        },
        {
          "output_type": "stream",
          "text": [
            "/usr/local/lib/python3.7/dist-packages/sklearn/utils/deprecation.py:87: FutureWarning: Function safe_indexing is deprecated; safe_indexing is deprecated in version 0.22 and will be removed in version 0.24.\n",
            "  warnings.warn(msg, category=FutureWarning)\n"
          ],
          "name": "stderr"
        },
        {
          "output_type": "stream",
          "text": [
            "k------ 5 2\n",
            "              precision    recall  f1-score   support\n",
            "\n",
            "       false       0.83      1.00      0.91        83\n",
            "        true       1.00      0.19      0.32        21\n",
            "\n",
            "    accuracy                           0.84       104\n",
            "   macro avg       0.92      0.60      0.61       104\n",
            "weighted avg       0.86      0.84      0.79       104\n",
            "\n"
          ],
          "name": "stdout"
        },
        {
          "output_type": "stream",
          "text": [
            "/usr/local/lib/python3.7/dist-packages/sklearn/utils/deprecation.py:87: FutureWarning: Function safe_indexing is deprecated; safe_indexing is deprecated in version 0.22 and will be removed in version 0.24.\n",
            "  warnings.warn(msg, category=FutureWarning)\n"
          ],
          "name": "stderr"
        },
        {
          "output_type": "stream",
          "text": [
            "k------ 5 3\n",
            "              precision    recall  f1-score   support\n",
            "\n",
            "       false       0.71      0.58      0.64        83\n",
            "        true       0.03      0.05      0.04        21\n",
            "\n",
            "    accuracy                           0.47       104\n",
            "   macro avg       0.37      0.31      0.34       104\n",
            "weighted avg       0.57      0.47      0.51       104\n",
            "\n"
          ],
          "name": "stdout"
        },
        {
          "output_type": "stream",
          "text": [
            "/usr/local/lib/python3.7/dist-packages/sklearn/utils/deprecation.py:87: FutureWarning: Function safe_indexing is deprecated; safe_indexing is deprecated in version 0.22 and will be removed in version 0.24.\n",
            "  warnings.warn(msg, category=FutureWarning)\n"
          ],
          "name": "stderr"
        },
        {
          "output_type": "stream",
          "text": [
            "k------ 5 4\n",
            "              precision    recall  f1-score   support\n",
            "\n",
            "       false       0.75      0.61      0.68        83\n",
            "        true       0.11      0.19      0.14        21\n",
            "\n",
            "    accuracy                           0.53       104\n",
            "   macro avg       0.43      0.40      0.41       104\n",
            "weighted avg       0.62      0.53      0.57       104\n",
            "\n"
          ],
          "name": "stdout"
        }
      ]
    },
    {
      "cell_type": "code",
      "metadata": {
        "colab": {
          "base_uri": "https://localhost:8080/"
        },
        "id": "Mf4gV_0Mo1Mu",
        "outputId": "aa736243-3c3a-4da5-ecef-69d0f08a17a8"
      },
      "source": [
        "k_list = [1,2,3,5]\n",
        "dict_results_sem = {}\n",
        "\n",
        "lvq1 = LVQ1(n)\n",
        "lvq21 = LVQ21(n)\n",
        "lvq3 = LVQ3(n)\n",
        "for k in k_list :\n",
        "  i = 0\n",
        "  sum = 0 \n",
        "  recall_true = 0\n",
        "  recall_false = 0\n",
        "  precision_true = 0\n",
        "  precision_false = 0\n",
        "  tempo_init = time.time()\n",
        "  for train_index, test_index in  skf.split(x_df1,y_df1):\n",
        "    xdf1_train, xdf1_test = x_df1[train_index], x_df1[test_index]\n",
        "    ydf1_train, ydf1_test = y_df1[train_index], y_df1[test_index]\n",
        "\n",
        "    scaler.fit(xdf1_train)\n",
        "\n",
        "    xdf1_train = scaler.transform(xdf1_train)\n",
        "\n",
        "    lvq1.selection(xdf1_train,ydf1_train)\n",
        "    xdf1_train,ydf1_train = lvq1.fit(0.1,100)\n",
        "\n",
        "    lvq21.selection(xdf1_train,ydf1_train)\n",
        "    xdf1_train,ydf1_train = lvq21.fit(0.1,0.2,100)\n",
        " \n",
        "    xdf1_test = scaler.transform(xdf1_test) \n",
        "\n",
        "    classifier = KNeighborsClassifier(n_neighbors = k,weights=\"uniform\")  \n",
        "    classifier.fit(xdf1_train, ydf1_train)  \n",
        "    \n",
        "    tempo_treino = time.time() - tempo_init \n",
        "    tempo_init = time.time()\n",
        "\n",
        "    ydf1_pred = classifier.predict(xdf1_test)\n",
        "\n",
        "    #print(confusion_matrix(ydf1_test, ydf1_pred))  \n",
        "    #print(classification_report(ydf1_test, ydf1_pred))\n",
        "    dict_results_sem[k,i] = classification_report(ydf1_test, ydf1_pred,output_dict=True)['accuracy']  \n",
        "\n",
        "    sum += classification_report(ydf1_test, ydf1_pred,output_dict=True)['accuracy'] \n",
        "    recall_true += classification_report(ydf1_test, ydf1_pred,output_dict=True)['true']['recall']\n",
        "    precision_true += classification_report(ydf1_test, ydf1_pred,output_dict=True)['true']['precision']\n",
        "\n",
        "    recall_false += classification_report(ydf1_test, ydf1_pred,output_dict=True)['false']['recall']\n",
        "    precision_false += classification_report(ydf1_test, ydf1_pred,output_dict=True)['false']['precision']\n",
        "\n",
        "    print(\"k------\",k,i)\n",
        "    print(classification_report(ydf1_test, ydf1_pred))\n",
        "    i+=1\n",
        "  tempo = time.time() - tempo_init \n",
        "  acc_peso[k,1] = [sum/5,k,\"LVQ1 + LVQ2.1 + k-NN sem peso\",recall_true/5,precision_true/5,recall_false/5,precision_false/5,tempo_treino,tempo/5]\n"
      ],
      "execution_count": null,
      "outputs": [
        {
          "output_type": "stream",
          "text": [
            "/usr/local/lib/python3.7/dist-packages/sklearn/utils/deprecation.py:87: FutureWarning: Function safe_indexing is deprecated; safe_indexing is deprecated in version 0.22 and will be removed in version 0.24.\n",
            "  warnings.warn(msg, category=FutureWarning)\n"
          ],
          "name": "stderr"
        },
        {
          "output_type": "stream",
          "text": [
            "k------ 1 0\n",
            "              precision    recall  f1-score   support\n",
            "\n",
            "       false       0.91      0.81      0.85        83\n",
            "        true       0.48      0.68      0.57        22\n",
            "\n",
            "    accuracy                           0.78       105\n",
            "   macro avg       0.69      0.74      0.71       105\n",
            "weighted avg       0.82      0.78      0.79       105\n",
            "\n"
          ],
          "name": "stdout"
        },
        {
          "output_type": "stream",
          "text": [
            "/usr/local/lib/python3.7/dist-packages/sklearn/utils/deprecation.py:87: FutureWarning: Function safe_indexing is deprecated; safe_indexing is deprecated in version 0.22 and will be removed in version 0.24.\n",
            "  warnings.warn(msg, category=FutureWarning)\n"
          ],
          "name": "stderr"
        },
        {
          "output_type": "stream",
          "text": [
            "k------ 1 1\n",
            "              precision    recall  f1-score   support\n",
            "\n",
            "       false       0.91      0.61      0.73        83\n",
            "        true       0.35      0.77      0.48        22\n",
            "\n",
            "    accuracy                           0.65       105\n",
            "   macro avg       0.63      0.69      0.61       105\n",
            "weighted avg       0.79      0.65      0.68       105\n",
            "\n"
          ],
          "name": "stdout"
        },
        {
          "output_type": "stream",
          "text": [
            "/usr/local/lib/python3.7/dist-packages/sklearn/utils/deprecation.py:87: FutureWarning: Function safe_indexing is deprecated; safe_indexing is deprecated in version 0.22 and will be removed in version 0.24.\n",
            "  warnings.warn(msg, category=FutureWarning)\n"
          ],
          "name": "stderr"
        },
        {
          "output_type": "stream",
          "text": [
            "k------ 1 2\n",
            "              precision    recall  f1-score   support\n",
            "\n",
            "       false       1.00      0.02      0.05        83\n",
            "        true       0.21      1.00      0.34        21\n",
            "\n",
            "    accuracy                           0.22       104\n",
            "   macro avg       0.60      0.51      0.19       104\n",
            "weighted avg       0.84      0.22      0.11       104\n",
            "\n"
          ],
          "name": "stdout"
        },
        {
          "output_type": "stream",
          "text": [
            "/usr/local/lib/python3.7/dist-packages/sklearn/utils/deprecation.py:87: FutureWarning: Function safe_indexing is deprecated; safe_indexing is deprecated in version 0.22 and will be removed in version 0.24.\n",
            "  warnings.warn(msg, category=FutureWarning)\n"
          ],
          "name": "stderr"
        },
        {
          "output_type": "stream",
          "text": [
            "k------ 1 3\n",
            "              precision    recall  f1-score   support\n",
            "\n",
            "       false       0.91      0.47      0.62        83\n",
            "        true       0.28      0.81      0.41        21\n",
            "\n",
            "    accuracy                           0.54       104\n",
            "   macro avg       0.59      0.64      0.52       104\n",
            "weighted avg       0.78      0.54      0.58       104\n",
            "\n"
          ],
          "name": "stdout"
        },
        {
          "output_type": "stream",
          "text": [
            "/usr/local/lib/python3.7/dist-packages/sklearn/utils/deprecation.py:87: FutureWarning: Function safe_indexing is deprecated; safe_indexing is deprecated in version 0.22 and will be removed in version 0.24.\n",
            "  warnings.warn(msg, category=FutureWarning)\n"
          ],
          "name": "stderr"
        },
        {
          "output_type": "stream",
          "text": [
            "k------ 1 4\n",
            "              precision    recall  f1-score   support\n",
            "\n",
            "       false       1.00      0.67      0.81        83\n",
            "        true       0.44      1.00      0.61        21\n",
            "\n",
            "    accuracy                           0.74       104\n",
            "   macro avg       0.72      0.84      0.71       104\n",
            "weighted avg       0.89      0.74      0.77       104\n",
            "\n"
          ],
          "name": "stdout"
        },
        {
          "output_type": "stream",
          "text": [
            "/usr/local/lib/python3.7/dist-packages/sklearn/utils/deprecation.py:87: FutureWarning: Function safe_indexing is deprecated; safe_indexing is deprecated in version 0.22 and will be removed in version 0.24.\n",
            "  warnings.warn(msg, category=FutureWarning)\n"
          ],
          "name": "stderr"
        },
        {
          "output_type": "stream",
          "text": [
            "k------ 2 0\n",
            "              precision    recall  f1-score   support\n",
            "\n",
            "       false       0.83      0.95      0.89        83\n",
            "        true       0.60      0.27      0.37        22\n",
            "\n",
            "    accuracy                           0.81       105\n",
            "   macro avg       0.72      0.61      0.63       105\n",
            "weighted avg       0.78      0.81      0.78       105\n",
            "\n"
          ],
          "name": "stdout"
        },
        {
          "output_type": "stream",
          "text": [
            "/usr/local/lib/python3.7/dist-packages/sklearn/utils/deprecation.py:87: FutureWarning: Function safe_indexing is deprecated; safe_indexing is deprecated in version 0.22 and will be removed in version 0.24.\n",
            "  warnings.warn(msg, category=FutureWarning)\n"
          ],
          "name": "stderr"
        },
        {
          "output_type": "stream",
          "text": [
            "k------ 2 1\n",
            "              precision    recall  f1-score   support\n",
            "\n",
            "       false       0.85      0.94      0.89        83\n",
            "        true       0.62      0.36      0.46        22\n",
            "\n",
            "    accuracy                           0.82       105\n",
            "   macro avg       0.73      0.65      0.67       105\n",
            "weighted avg       0.80      0.82      0.80       105\n",
            "\n"
          ],
          "name": "stdout"
        },
        {
          "output_type": "stream",
          "text": [
            "/usr/local/lib/python3.7/dist-packages/sklearn/utils/deprecation.py:87: FutureWarning: Function safe_indexing is deprecated; safe_indexing is deprecated in version 0.22 and will be removed in version 0.24.\n",
            "  warnings.warn(msg, category=FutureWarning)\n"
          ],
          "name": "stderr"
        },
        {
          "output_type": "stream",
          "text": [
            "k------ 2 2\n",
            "              precision    recall  f1-score   support\n",
            "\n",
            "       false       0.86      0.99      0.92        83\n",
            "        true       0.89      0.38      0.53        21\n",
            "\n",
            "    accuracy                           0.87       104\n",
            "   macro avg       0.88      0.68      0.73       104\n",
            "weighted avg       0.87      0.87      0.84       104\n",
            "\n"
          ],
          "name": "stdout"
        },
        {
          "output_type": "stream",
          "text": [
            "/usr/local/lib/python3.7/dist-packages/sklearn/utils/deprecation.py:87: FutureWarning: Function safe_indexing is deprecated; safe_indexing is deprecated in version 0.22 and will be removed in version 0.24.\n",
            "  warnings.warn(msg, category=FutureWarning)\n"
          ],
          "name": "stderr"
        },
        {
          "output_type": "stream",
          "text": [
            "k------ 2 3\n",
            "              precision    recall  f1-score   support\n",
            "\n",
            "       false       0.79      0.81      0.80        83\n",
            "        true       0.16      0.14      0.15        21\n",
            "\n",
            "    accuracy                           0.67       104\n",
            "   macro avg       0.47      0.48      0.47       104\n",
            "weighted avg       0.66      0.67      0.67       104\n",
            "\n"
          ],
          "name": "stdout"
        },
        {
          "output_type": "stream",
          "text": [
            "/usr/local/lib/python3.7/dist-packages/sklearn/utils/deprecation.py:87: FutureWarning: Function safe_indexing is deprecated; safe_indexing is deprecated in version 0.22 and will be removed in version 0.24.\n",
            "  warnings.warn(msg, category=FutureWarning)\n"
          ],
          "name": "stderr"
        },
        {
          "output_type": "stream",
          "text": [
            "k------ 2 4\n",
            "              precision    recall  f1-score   support\n",
            "\n",
            "       false       0.81      1.00      0.89        83\n",
            "        true       1.00      0.05      0.09        21\n",
            "\n",
            "    accuracy                           0.81       104\n",
            "   macro avg       0.90      0.52      0.49       104\n",
            "weighted avg       0.85      0.81      0.73       104\n",
            "\n"
          ],
          "name": "stdout"
        },
        {
          "output_type": "stream",
          "text": [
            "/usr/local/lib/python3.7/dist-packages/sklearn/utils/deprecation.py:87: FutureWarning: Function safe_indexing is deprecated; safe_indexing is deprecated in version 0.22 and will be removed in version 0.24.\n",
            "  warnings.warn(msg, category=FutureWarning)\n"
          ],
          "name": "stderr"
        },
        {
          "output_type": "stream",
          "text": [
            "k------ 3 0\n",
            "              precision    recall  f1-score   support\n",
            "\n",
            "       false       0.79      0.96      0.87        83\n",
            "        true       0.25      0.05      0.08        22\n",
            "\n",
            "    accuracy                           0.77       105\n",
            "   macro avg       0.52      0.50      0.47       105\n",
            "weighted avg       0.68      0.77      0.70       105\n",
            "\n"
          ],
          "name": "stdout"
        },
        {
          "output_type": "stream",
          "text": [
            "/usr/local/lib/python3.7/dist-packages/sklearn/utils/deprecation.py:87: FutureWarning: Function safe_indexing is deprecated; safe_indexing is deprecated in version 0.22 and will be removed in version 0.24.\n",
            "  warnings.warn(msg, category=FutureWarning)\n"
          ],
          "name": "stderr"
        },
        {
          "output_type": "stream",
          "text": [
            "k------ 3 1\n",
            "              precision    recall  f1-score   support\n",
            "\n",
            "       false       0.72      0.58      0.64        83\n",
            "        true       0.08      0.14      0.10        22\n",
            "\n",
            "    accuracy                           0.49       105\n",
            "   macro avg       0.40      0.36      0.37       105\n",
            "weighted avg       0.58      0.49      0.53       105\n",
            "\n"
          ],
          "name": "stdout"
        },
        {
          "output_type": "stream",
          "text": [
            "/usr/local/lib/python3.7/dist-packages/sklearn/utils/deprecation.py:87: FutureWarning: Function safe_indexing is deprecated; safe_indexing is deprecated in version 0.22 and will be removed in version 0.24.\n",
            "  warnings.warn(msg, category=FutureWarning)\n"
          ],
          "name": "stderr"
        },
        {
          "output_type": "stream",
          "text": [
            "k------ 3 2\n",
            "              precision    recall  f1-score   support\n",
            "\n",
            "       false       0.89      0.30      0.45        83\n",
            "        true       0.24      0.86      0.37        21\n",
            "\n",
            "    accuracy                           0.41       104\n",
            "   macro avg       0.56      0.58      0.41       104\n",
            "weighted avg       0.76      0.41      0.43       104\n",
            "\n"
          ],
          "name": "stdout"
        },
        {
          "output_type": "stream",
          "text": [
            "/usr/local/lib/python3.7/dist-packages/sklearn/utils/deprecation.py:87: FutureWarning: Function safe_indexing is deprecated; safe_indexing is deprecated in version 0.22 and will be removed in version 0.24.\n",
            "  warnings.warn(msg, category=FutureWarning)\n"
          ],
          "name": "stderr"
        },
        {
          "output_type": "stream",
          "text": [
            "k------ 3 3\n",
            "              precision    recall  f1-score   support\n",
            "\n",
            "       false       0.66      0.37      0.48        83\n",
            "        true       0.09      0.24      0.13        21\n",
            "\n",
            "    accuracy                           0.35       104\n",
            "   macro avg       0.37      0.31      0.30       104\n",
            "weighted avg       0.54      0.35      0.41       104\n",
            "\n"
          ],
          "name": "stdout"
        },
        {
          "output_type": "stream",
          "text": [
            "/usr/local/lib/python3.7/dist-packages/sklearn/utils/deprecation.py:87: FutureWarning: Function safe_indexing is deprecated; safe_indexing is deprecated in version 0.22 and will be removed in version 0.24.\n",
            "  warnings.warn(msg, category=FutureWarning)\n"
          ],
          "name": "stderr"
        },
        {
          "output_type": "stream",
          "text": [
            "k------ 3 4\n",
            "              precision    recall  f1-score   support\n",
            "\n",
            "       false       0.82      0.73      0.78        83\n",
            "        true       0.27      0.38      0.31        21\n",
            "\n",
            "    accuracy                           0.66       104\n",
            "   macro avg       0.55      0.56      0.55       104\n",
            "weighted avg       0.71      0.66      0.68       104\n",
            "\n"
          ],
          "name": "stdout"
        },
        {
          "output_type": "stream",
          "text": [
            "/usr/local/lib/python3.7/dist-packages/sklearn/utils/deprecation.py:87: FutureWarning: Function safe_indexing is deprecated; safe_indexing is deprecated in version 0.22 and will be removed in version 0.24.\n",
            "  warnings.warn(msg, category=FutureWarning)\n"
          ],
          "name": "stderr"
        },
        {
          "output_type": "stream",
          "text": [
            "k------ 5 0\n",
            "              precision    recall  f1-score   support\n",
            "\n",
            "       false       0.73      0.64      0.68        83\n",
            "        true       0.06      0.09      0.07        22\n",
            "\n",
            "    accuracy                           0.52       105\n",
            "   macro avg       0.39      0.36      0.38       105\n",
            "weighted avg       0.59      0.52      0.55       105\n",
            "\n"
          ],
          "name": "stdout"
        },
        {
          "output_type": "stream",
          "text": [
            "/usr/local/lib/python3.7/dist-packages/sklearn/utils/deprecation.py:87: FutureWarning: Function safe_indexing is deprecated; safe_indexing is deprecated in version 0.22 and will be removed in version 0.24.\n",
            "  warnings.warn(msg, category=FutureWarning)\n"
          ],
          "name": "stderr"
        },
        {
          "output_type": "stream",
          "text": [
            "k------ 5 1\n",
            "              precision    recall  f1-score   support\n",
            "\n",
            "       false       0.84      0.96      0.90        83\n",
            "        true       0.70      0.32      0.44        22\n",
            "\n",
            "    accuracy                           0.83       105\n",
            "   macro avg       0.77      0.64      0.67       105\n",
            "weighted avg       0.81      0.83      0.80       105\n",
            "\n"
          ],
          "name": "stdout"
        },
        {
          "output_type": "stream",
          "text": [
            "/usr/local/lib/python3.7/dist-packages/sklearn/utils/deprecation.py:87: FutureWarning: Function safe_indexing is deprecated; safe_indexing is deprecated in version 0.22 and will be removed in version 0.24.\n",
            "  warnings.warn(msg, category=FutureWarning)\n"
          ],
          "name": "stderr"
        },
        {
          "output_type": "stream",
          "text": [
            "k------ 5 2\n",
            "              precision    recall  f1-score   support\n",
            "\n",
            "       false       0.72      0.55      0.63        83\n",
            "        true       0.07      0.14      0.10        21\n",
            "\n",
            "    accuracy                           0.47       104\n",
            "   macro avg       0.40      0.35      0.36       104\n",
            "weighted avg       0.59      0.47      0.52       104\n",
            "\n"
          ],
          "name": "stdout"
        },
        {
          "output_type": "stream",
          "text": [
            "/usr/local/lib/python3.7/dist-packages/sklearn/utils/deprecation.py:87: FutureWarning: Function safe_indexing is deprecated; safe_indexing is deprecated in version 0.22 and will be removed in version 0.24.\n",
            "  warnings.warn(msg, category=FutureWarning)\n"
          ],
          "name": "stderr"
        },
        {
          "output_type": "stream",
          "text": [
            "k------ 5 3\n",
            "              precision    recall  f1-score   support\n",
            "\n",
            "       false       0.76      0.73      0.75        83\n",
            "        true       0.08      0.10      0.09        21\n",
            "\n",
            "    accuracy                           0.61       104\n",
            "   macro avg       0.42      0.42      0.42       104\n",
            "weighted avg       0.63      0.61      0.62       104\n",
            "\n"
          ],
          "name": "stdout"
        },
        {
          "output_type": "stream",
          "text": [
            "/usr/local/lib/python3.7/dist-packages/sklearn/utils/deprecation.py:87: FutureWarning: Function safe_indexing is deprecated; safe_indexing is deprecated in version 0.22 and will be removed in version 0.24.\n",
            "  warnings.warn(msg, category=FutureWarning)\n"
          ],
          "name": "stderr"
        },
        {
          "output_type": "stream",
          "text": [
            "k------ 5 4\n",
            "              precision    recall  f1-score   support\n",
            "\n",
            "       false       0.77      0.84      0.80        83\n",
            "        true       0.00      0.00      0.00        21\n",
            "\n",
            "    accuracy                           0.67       104\n",
            "   macro avg       0.38      0.42      0.40       104\n",
            "weighted avg       0.61      0.67      0.64       104\n",
            "\n"
          ],
          "name": "stdout"
        }
      ]
    },
    {
      "cell_type": "code",
      "metadata": {
        "colab": {
          "base_uri": "https://localhost:8080/"
        },
        "id": "-etX7s3PqGBt",
        "outputId": "156f6a83-8d30-44c2-fb7c-85aa64b20570"
      },
      "source": [
        "k_list = [1,2,3,5]\n",
        "dict_results_sem = {}\n",
        "\n",
        "lvq1 = LVQ1(n)\n",
        "lvq21 = LVQ21(n)\n",
        "lvq3 = LVQ3(n)\n",
        "for k in k_list :\n",
        "  i = 0\n",
        "  sum = 0 \n",
        "  recall_true = 0\n",
        "  recall_false = 0\n",
        "  precision_true = 0\n",
        "  precision_false = 0\n",
        "  tempo_init = time.time()\n",
        "  for train_index, test_index in  skf.split(x_df1,y_df1):\n",
        "    xdf1_train, xdf1_test = x_df1[train_index], x_df1[test_index]\n",
        "    ydf1_train, ydf1_test = y_df1[train_index], y_df1[test_index]\n",
        "\n",
        "    scaler.fit(xdf1_train)\n",
        "\n",
        "    xdf1_train = scaler.transform(xdf1_train)\n",
        "\n",
        "    lvq1.selection(xdf1_train,ydf1_train)\n",
        "    xdf1_train,ydf1_train = lvq1.fit(0.1,100)\n",
        "\n",
        "    lvq3.selection(xdf1_train,ydf1_train)\n",
        "    xdf1_train,ydf1_train = lvq3.fit(0.1,0.2,0.2,100)\n",
        " \n",
        "    xdf1_test = scaler.transform(xdf1_test) \n",
        "\n",
        "    classifier = KNeighborsClassifier(n_neighbors = k,weights=\"uniform\")  \n",
        "    classifier.fit(xdf1_train, ydf1_train)  \n",
        "    \n",
        "    tempo_treino = time.time() - tempo_init \n",
        "    tempo_init = time.time()\n",
        "\n",
        "    ydf1_pred = classifier.predict(xdf1_test)\n",
        "\n",
        "    #print(confusion_matrix(ydf1_test, ydf1_pred))  \n",
        "    #print(classification_report(ydf1_test, ydf1_pred))\n",
        "    dict_results_sem[k,i] = classification_report(ydf1_test, ydf1_pred,output_dict=True)['accuracy']  \n",
        "\n",
        "    sum += classification_report(ydf1_test, ydf1_pred,output_dict=True)['accuracy'] \n",
        "    recall_true += classification_report(ydf1_test, ydf1_pred,output_dict=True)['true']['recall']\n",
        "    precision_true += classification_report(ydf1_test, ydf1_pred,output_dict=True)['true']['precision']\n",
        "\n",
        "    recall_false += classification_report(ydf1_test, ydf1_pred,output_dict=True)['false']['recall']\n",
        "    precision_false += classification_report(ydf1_test, ydf1_pred,output_dict=True)['false']['precision']\n",
        "\n",
        "    print(\"k------\",k,i)\n",
        "    print(classification_report(ydf1_test, ydf1_pred))\n",
        "    i+=1\n",
        "  tempo = time.time() - tempo_init \n",
        "  acc_peso[k,2] = [sum/5,k,\"LVQ1 + LVQ3 + k-NN sem peso\",recall_true/5,precision_true/5,recall_false/5,precision_false/5,tempo_treino,tempo/5]\n"
      ],
      "execution_count": null,
      "outputs": [
        {
          "output_type": "stream",
          "text": [
            "/usr/local/lib/python3.7/dist-packages/sklearn/utils/deprecation.py:87: FutureWarning: Function safe_indexing is deprecated; safe_indexing is deprecated in version 0.22 and will be removed in version 0.24.\n",
            "  warnings.warn(msg, category=FutureWarning)\n"
          ],
          "name": "stderr"
        },
        {
          "output_type": "stream",
          "text": [
            "k------ 1 0\n",
            "              precision    recall  f1-score   support\n",
            "\n",
            "       false       0.91      0.77      0.84        83\n",
            "        true       0.46      0.73      0.56        22\n",
            "\n",
            "    accuracy                           0.76       105\n",
            "   macro avg       0.69      0.75      0.70       105\n",
            "weighted avg       0.82      0.76      0.78       105\n",
            "\n"
          ],
          "name": "stdout"
        },
        {
          "output_type": "stream",
          "text": [
            "/usr/local/lib/python3.7/dist-packages/sklearn/utils/deprecation.py:87: FutureWarning: Function safe_indexing is deprecated; safe_indexing is deprecated in version 0.22 and will be removed in version 0.24.\n",
            "  warnings.warn(msg, category=FutureWarning)\n"
          ],
          "name": "stderr"
        },
        {
          "output_type": "stream",
          "text": [
            "k------ 1 1\n",
            "              precision    recall  f1-score   support\n",
            "\n",
            "       false       0.94      0.60      0.74        83\n",
            "        true       0.37      0.86      0.51        22\n",
            "\n",
            "    accuracy                           0.66       105\n",
            "   macro avg       0.65      0.73      0.62       105\n",
            "weighted avg       0.82      0.66      0.69       105\n",
            "\n"
          ],
          "name": "stdout"
        },
        {
          "output_type": "stream",
          "text": [
            "/usr/local/lib/python3.7/dist-packages/sklearn/utils/deprecation.py:87: FutureWarning: Function safe_indexing is deprecated; safe_indexing is deprecated in version 0.22 and will be removed in version 0.24.\n",
            "  warnings.warn(msg, category=FutureWarning)\n"
          ],
          "name": "stderr"
        },
        {
          "output_type": "stream",
          "text": [
            "k------ 1 2\n",
            "              precision    recall  f1-score   support\n",
            "\n",
            "       false       0.97      0.72      0.83        83\n",
            "        true       0.45      0.90      0.60        21\n",
            "\n",
            "    accuracy                           0.76       104\n",
            "   macro avg       0.71      0.81      0.72       104\n",
            "weighted avg       0.86      0.76      0.78       104\n",
            "\n"
          ],
          "name": "stdout"
        },
        {
          "output_type": "stream",
          "text": [
            "/usr/local/lib/python3.7/dist-packages/sklearn/utils/deprecation.py:87: FutureWarning: Function safe_indexing is deprecated; safe_indexing is deprecated in version 0.22 and will be removed in version 0.24.\n",
            "  warnings.warn(msg, category=FutureWarning)\n"
          ],
          "name": "stderr"
        },
        {
          "output_type": "stream",
          "text": [
            "k------ 1 3\n",
            "              precision    recall  f1-score   support\n",
            "\n",
            "       false       0.92      0.29      0.44        83\n",
            "        true       0.24      0.90      0.38        21\n",
            "\n",
            "    accuracy                           0.41       104\n",
            "   macro avg       0.58      0.60      0.41       104\n",
            "weighted avg       0.79      0.41      0.43       104\n",
            "\n"
          ],
          "name": "stdout"
        },
        {
          "output_type": "stream",
          "text": [
            "/usr/local/lib/python3.7/dist-packages/sklearn/utils/deprecation.py:87: FutureWarning: Function safe_indexing is deprecated; safe_indexing is deprecated in version 0.22 and will be removed in version 0.24.\n",
            "  warnings.warn(msg, category=FutureWarning)\n"
          ],
          "name": "stderr"
        },
        {
          "output_type": "stream",
          "text": [
            "k------ 1 4\n",
            "              precision    recall  f1-score   support\n",
            "\n",
            "       false       1.00      0.31      0.48        83\n",
            "        true       0.27      1.00      0.42        21\n",
            "\n",
            "    accuracy                           0.45       104\n",
            "   macro avg       0.63      0.66      0.45       104\n",
            "weighted avg       0.85      0.45      0.47       104\n",
            "\n"
          ],
          "name": "stdout"
        },
        {
          "output_type": "stream",
          "text": [
            "/usr/local/lib/python3.7/dist-packages/sklearn/utils/deprecation.py:87: FutureWarning: Function safe_indexing is deprecated; safe_indexing is deprecated in version 0.22 and will be removed in version 0.24.\n",
            "  warnings.warn(msg, category=FutureWarning)\n"
          ],
          "name": "stderr"
        },
        {
          "output_type": "stream",
          "text": [
            "k------ 2 0\n",
            "              precision    recall  f1-score   support\n",
            "\n",
            "       false       0.80      0.99      0.89        83\n",
            "        true       0.67      0.09      0.16        22\n",
            "\n",
            "    accuracy                           0.80       105\n",
            "   macro avg       0.74      0.54      0.52       105\n",
            "weighted avg       0.78      0.80      0.73       105\n",
            "\n"
          ],
          "name": "stdout"
        },
        {
          "output_type": "stream",
          "text": [
            "/usr/local/lib/python3.7/dist-packages/sklearn/utils/deprecation.py:87: FutureWarning: Function safe_indexing is deprecated; safe_indexing is deprecated in version 0.22 and will be removed in version 0.24.\n",
            "  warnings.warn(msg, category=FutureWarning)\n"
          ],
          "name": "stderr"
        },
        {
          "output_type": "stream",
          "text": [
            "k------ 2 1\n",
            "              precision    recall  f1-score   support\n",
            "\n",
            "       false       0.83      0.98      0.90        83\n",
            "        true       0.71      0.23      0.34        22\n",
            "\n",
            "    accuracy                           0.82       105\n",
            "   macro avg       0.77      0.60      0.62       105\n",
            "weighted avg       0.80      0.82      0.78       105\n",
            "\n"
          ],
          "name": "stdout"
        },
        {
          "output_type": "stream",
          "text": [
            "/usr/local/lib/python3.7/dist-packages/sklearn/utils/deprecation.py:87: FutureWarning: Function safe_indexing is deprecated; safe_indexing is deprecated in version 0.22 and will be removed in version 0.24.\n",
            "  warnings.warn(msg, category=FutureWarning)\n"
          ],
          "name": "stderr"
        },
        {
          "output_type": "stream",
          "text": [
            "k------ 2 2\n",
            "              precision    recall  f1-score   support\n",
            "\n",
            "       false       0.82      0.95      0.88        83\n",
            "        true       0.50      0.19      0.28        21\n",
            "\n",
            "    accuracy                           0.80       104\n",
            "   macro avg       0.66      0.57      0.58       104\n",
            "weighted avg       0.76      0.80      0.76       104\n",
            "\n"
          ],
          "name": "stdout"
        },
        {
          "output_type": "stream",
          "text": [
            "/usr/local/lib/python3.7/dist-packages/sklearn/utils/deprecation.py:87: FutureWarning: Function safe_indexing is deprecated; safe_indexing is deprecated in version 0.22 and will be removed in version 0.24.\n",
            "  warnings.warn(msg, category=FutureWarning)\n"
          ],
          "name": "stderr"
        },
        {
          "output_type": "stream",
          "text": [
            "k------ 2 3\n",
            "              precision    recall  f1-score   support\n",
            "\n",
            "       false       0.85      0.99      0.91        83\n",
            "        true       0.86      0.29      0.43        21\n",
            "\n",
            "    accuracy                           0.85       104\n",
            "   macro avg       0.85      0.64      0.67       104\n",
            "weighted avg       0.85      0.85      0.81       104\n",
            "\n"
          ],
          "name": "stdout"
        },
        {
          "output_type": "stream",
          "text": [
            "/usr/local/lib/python3.7/dist-packages/sklearn/utils/deprecation.py:87: FutureWarning: Function safe_indexing is deprecated; safe_indexing is deprecated in version 0.22 and will be removed in version 0.24.\n",
            "  warnings.warn(msg, category=FutureWarning)\n"
          ],
          "name": "stderr"
        },
        {
          "output_type": "stream",
          "text": [
            "k------ 2 4\n",
            "              precision    recall  f1-score   support\n",
            "\n",
            "       false       0.80      0.99      0.88        83\n",
            "        true       0.00      0.00      0.00        21\n",
            "\n",
            "    accuracy                           0.79       104\n",
            "   macro avg       0.40      0.49      0.44       104\n",
            "weighted avg       0.64      0.79      0.70       104\n",
            "\n"
          ],
          "name": "stdout"
        },
        {
          "output_type": "stream",
          "text": [
            "/usr/local/lib/python3.7/dist-packages/sklearn/utils/deprecation.py:87: FutureWarning: Function safe_indexing is deprecated; safe_indexing is deprecated in version 0.22 and will be removed in version 0.24.\n",
            "  warnings.warn(msg, category=FutureWarning)\n"
          ],
          "name": "stderr"
        },
        {
          "output_type": "stream",
          "text": [
            "k------ 3 0\n",
            "              precision    recall  f1-score   support\n",
            "\n",
            "       false       0.75      0.81      0.78        83\n",
            "        true       0.00      0.00      0.00        22\n",
            "\n",
            "    accuracy                           0.64       105\n",
            "   macro avg       0.38      0.40      0.39       105\n",
            "weighted avg       0.60      0.64      0.62       105\n",
            "\n"
          ],
          "name": "stdout"
        },
        {
          "output_type": "stream",
          "text": [
            "/usr/local/lib/python3.7/dist-packages/sklearn/utils/deprecation.py:87: FutureWarning: Function safe_indexing is deprecated; safe_indexing is deprecated in version 0.22 and will be removed in version 0.24.\n",
            "  warnings.warn(msg, category=FutureWarning)\n"
          ],
          "name": "stderr"
        },
        {
          "output_type": "stream",
          "text": [
            "k------ 3 1\n",
            "              precision    recall  f1-score   support\n",
            "\n",
            "       false       0.80      0.59      0.68        83\n",
            "        true       0.23      0.45      0.30        22\n",
            "\n",
            "    accuracy                           0.56       105\n",
            "   macro avg       0.52      0.52      0.49       105\n",
            "weighted avg       0.68      0.56      0.60       105\n",
            "\n"
          ],
          "name": "stdout"
        },
        {
          "output_type": "stream",
          "text": [
            "/usr/local/lib/python3.7/dist-packages/sklearn/utils/deprecation.py:87: FutureWarning: Function safe_indexing is deprecated; safe_indexing is deprecated in version 0.22 and will be removed in version 0.24.\n",
            "  warnings.warn(msg, category=FutureWarning)\n"
          ],
          "name": "stderr"
        },
        {
          "output_type": "stream",
          "text": [
            "k------ 3 2\n",
            "              precision    recall  f1-score   support\n",
            "\n",
            "       false       0.81      0.89      0.85        83\n",
            "        true       0.31      0.19      0.24        21\n",
            "\n",
            "    accuracy                           0.75       104\n",
            "   macro avg       0.56      0.54      0.54       104\n",
            "weighted avg       0.71      0.75      0.73       104\n",
            "\n"
          ],
          "name": "stdout"
        },
        {
          "output_type": "stream",
          "text": [
            "/usr/local/lib/python3.7/dist-packages/sklearn/utils/deprecation.py:87: FutureWarning: Function safe_indexing is deprecated; safe_indexing is deprecated in version 0.22 and will be removed in version 0.24.\n",
            "  warnings.warn(msg, category=FutureWarning)\n"
          ],
          "name": "stderr"
        },
        {
          "output_type": "stream",
          "text": [
            "k------ 3 3\n",
            "              precision    recall  f1-score   support\n",
            "\n",
            "       false       0.87      0.99      0.93        83\n",
            "        true       0.90      0.43      0.58        21\n",
            "\n",
            "    accuracy                           0.88       104\n",
            "   macro avg       0.89      0.71      0.75       104\n",
            "weighted avg       0.88      0.88      0.86       104\n",
            "\n"
          ],
          "name": "stdout"
        },
        {
          "output_type": "stream",
          "text": [
            "/usr/local/lib/python3.7/dist-packages/sklearn/utils/deprecation.py:87: FutureWarning: Function safe_indexing is deprecated; safe_indexing is deprecated in version 0.22 and will be removed in version 0.24.\n",
            "  warnings.warn(msg, category=FutureWarning)\n"
          ],
          "name": "stderr"
        },
        {
          "output_type": "stream",
          "text": [
            "k------ 3 4\n",
            "              precision    recall  f1-score   support\n",
            "\n",
            "       false       0.75      0.70      0.73        83\n",
            "        true       0.07      0.10      0.08        21\n",
            "\n",
            "    accuracy                           0.58       104\n",
            "   macro avg       0.41      0.40      0.40       104\n",
            "weighted avg       0.62      0.58      0.60       104\n",
            "\n"
          ],
          "name": "stdout"
        },
        {
          "output_type": "stream",
          "text": [
            "/usr/local/lib/python3.7/dist-packages/sklearn/utils/deprecation.py:87: FutureWarning: Function safe_indexing is deprecated; safe_indexing is deprecated in version 0.22 and will be removed in version 0.24.\n",
            "  warnings.warn(msg, category=FutureWarning)\n"
          ],
          "name": "stderr"
        },
        {
          "output_type": "stream",
          "text": [
            "k------ 5 0\n",
            "              precision    recall  f1-score   support\n",
            "\n",
            "       false       0.82      1.00      0.90        83\n",
            "        true       1.00      0.18      0.31        22\n",
            "\n",
            "    accuracy                           0.83       105\n",
            "   macro avg       0.91      0.59      0.60       105\n",
            "weighted avg       0.86      0.83      0.78       105\n",
            "\n"
          ],
          "name": "stdout"
        },
        {
          "output_type": "stream",
          "text": [
            "/usr/local/lib/python3.7/dist-packages/sklearn/utils/deprecation.py:87: FutureWarning: Function safe_indexing is deprecated; safe_indexing is deprecated in version 0.22 and will be removed in version 0.24.\n",
            "  warnings.warn(msg, category=FutureWarning)\n"
          ],
          "name": "stderr"
        },
        {
          "output_type": "stream",
          "text": [
            "k------ 5 1\n",
            "              precision    recall  f1-score   support\n",
            "\n",
            "       false       0.72      0.70      0.71        83\n",
            "        true       0.00      0.00      0.00        22\n",
            "\n",
            "    accuracy                           0.55       105\n",
            "   macro avg       0.36      0.35      0.36       105\n",
            "weighted avg       0.57      0.55      0.56       105\n",
            "\n"
          ],
          "name": "stdout"
        },
        {
          "output_type": "stream",
          "text": [
            "/usr/local/lib/python3.7/dist-packages/sklearn/utils/deprecation.py:87: FutureWarning: Function safe_indexing is deprecated; safe_indexing is deprecated in version 0.22 and will be removed in version 0.24.\n",
            "  warnings.warn(msg, category=FutureWarning)\n"
          ],
          "name": "stderr"
        },
        {
          "output_type": "stream",
          "text": [
            "k------ 5 2\n",
            "              precision    recall  f1-score   support\n",
            "\n",
            "       false       0.71      0.59      0.64        83\n",
            "        true       0.03      0.05      0.04        21\n",
            "\n",
            "    accuracy                           0.48       104\n",
            "   macro avg       0.37      0.32      0.34       104\n",
            "weighted avg       0.57      0.48      0.52       104\n",
            "\n"
          ],
          "name": "stdout"
        },
        {
          "output_type": "stream",
          "text": [
            "/usr/local/lib/python3.7/dist-packages/sklearn/utils/deprecation.py:87: FutureWarning: Function safe_indexing is deprecated; safe_indexing is deprecated in version 0.22 and will be removed in version 0.24.\n",
            "  warnings.warn(msg, category=FutureWarning)\n"
          ],
          "name": "stderr"
        },
        {
          "output_type": "stream",
          "text": [
            "k------ 5 3\n",
            "              precision    recall  f1-score   support\n",
            "\n",
            "       false       0.85      0.92      0.88        83\n",
            "        true       0.53      0.38      0.44        21\n",
            "\n",
            "    accuracy                           0.81       104\n",
            "   macro avg       0.69      0.65      0.66       104\n",
            "weighted avg       0.79      0.81      0.80       104\n",
            "\n"
          ],
          "name": "stdout"
        },
        {
          "output_type": "stream",
          "text": [
            "/usr/local/lib/python3.7/dist-packages/sklearn/utils/deprecation.py:87: FutureWarning: Function safe_indexing is deprecated; safe_indexing is deprecated in version 0.22 and will be removed in version 0.24.\n",
            "  warnings.warn(msg, category=FutureWarning)\n"
          ],
          "name": "stderr"
        },
        {
          "output_type": "stream",
          "text": [
            "k------ 5 4\n",
            "              precision    recall  f1-score   support\n",
            "\n",
            "       false       0.73      0.64      0.68        83\n",
            "        true       0.03      0.05      0.04        21\n",
            "\n",
            "    accuracy                           0.52       104\n",
            "   macro avg       0.38      0.34      0.36       104\n",
            "weighted avg       0.59      0.52      0.55       104\n",
            "\n"
          ],
          "name": "stdout"
        }
      ]
    },
    {
      "cell_type": "code",
      "metadata": {
        "id": "q23I7wuWLKHk"
      },
      "source": [
        "df = pd.DataFrame.from_dict(acc_peso,orient='index',columns=['taxa de acerto','valor de k','k-NN',\"recall true\",\"precision true\",\"recall false\",\"precision false\",'tempo treino',\"tempo teste\"])"
      ],
      "execution_count": null,
      "outputs": []
    },
    {
      "cell_type": "code",
      "metadata": {
        "colab": {
          "base_uri": "https://localhost:8080/",
          "height": 421
        },
        "id": "5kvYFNiraapK",
        "outputId": "297c3838-f020-4e98-f58c-a00852945856"
      },
      "source": [
        "df"
      ],
      "execution_count": null,
      "outputs": [
        {
          "output_type": "execute_result",
          "data": {
            "text/html": [
              "<div>\n",
              "<style scoped>\n",
              "    .dataframe tbody tr th:only-of-type {\n",
              "        vertical-align: middle;\n",
              "    }\n",
              "\n",
              "    .dataframe tbody tr th {\n",
              "        vertical-align: top;\n",
              "    }\n",
              "\n",
              "    .dataframe thead th {\n",
              "        text-align: right;\n",
              "    }\n",
              "</style>\n",
              "<table border=\"1\" class=\"dataframe\">\n",
              "  <thead>\n",
              "    <tr style=\"text-align: right;\">\n",
              "      <th></th>\n",
              "      <th>taxa de acerto</th>\n",
              "      <th>valor de k</th>\n",
              "      <th>k-NN</th>\n",
              "      <th>recall true</th>\n",
              "      <th>precision true</th>\n",
              "      <th>recall false</th>\n",
              "      <th>precision false</th>\n",
              "      <th>tempo treino</th>\n",
              "      <th>tempo teste</th>\n",
              "    </tr>\n",
              "  </thead>\n",
              "  <tbody>\n",
              "    <tr>\n",
              "      <th>(1, 0)</th>\n",
              "      <td>0.613242</td>\n",
              "      <td>1</td>\n",
              "      <td>LVQ1 + k-NN sem peso</td>\n",
              "      <td>0.849784</td>\n",
              "      <td>0.353255</td>\n",
              "      <td>0.551807</td>\n",
              "      <td>0.948944</td>\n",
              "      <td>38.433891</td>\n",
              "      <td>0.007801</td>\n",
              "    </tr>\n",
              "    <tr>\n",
              "      <th>(2, 0)</th>\n",
              "      <td>0.814139</td>\n",
              "      <td>2</td>\n",
              "      <td>LVQ1 + k-NN sem peso</td>\n",
              "      <td>0.240693</td>\n",
              "      <td>0.555844</td>\n",
              "      <td>0.961446</td>\n",
              "      <td>0.832374</td>\n",
              "      <td>38.843959</td>\n",
              "      <td>0.009554</td>\n",
              "    </tr>\n",
              "    <tr>\n",
              "      <th>(3, 0)</th>\n",
              "      <td>0.693370</td>\n",
              "      <td>3</td>\n",
              "      <td>LVQ1 + k-NN sem peso</td>\n",
              "      <td>0.318182</td>\n",
              "      <td>0.229726</td>\n",
              "      <td>0.790361</td>\n",
              "      <td>0.820451</td>\n",
              "      <td>38.296497</td>\n",
              "      <td>0.007681</td>\n",
              "    </tr>\n",
              "    <tr>\n",
              "      <th>(5, 0)</th>\n",
              "      <td>0.592070</td>\n",
              "      <td>5</td>\n",
              "      <td>LVQ1 + k-NN sem peso</td>\n",
              "      <td>0.122078</td>\n",
              "      <td>0.259641</td>\n",
              "      <td>0.713253</td>\n",
              "      <td>0.751841</td>\n",
              "      <td>38.984968</td>\n",
              "      <td>0.007674</td>\n",
              "    </tr>\n",
              "    <tr>\n",
              "      <th>(1, 1)</th>\n",
              "      <td>0.585714</td>\n",
              "      <td>1</td>\n",
              "      <td>LVQ1 + LVQ2.1 + k-NN sem peso</td>\n",
              "      <td>0.852814</td>\n",
              "      <td>0.350576</td>\n",
              "      <td>0.518072</td>\n",
              "      <td>0.944619</td>\n",
              "      <td>41.510187</td>\n",
              "      <td>0.007535</td>\n",
              "    </tr>\n",
              "    <tr>\n",
              "      <th>(2, 1)</th>\n",
              "      <td>0.794945</td>\n",
              "      <td>2</td>\n",
              "      <td>LVQ1 + LVQ2.1 + k-NN sem peso</td>\n",
              "      <td>0.241558</td>\n",
              "      <td>0.652434</td>\n",
              "      <td>0.937349</td>\n",
              "      <td>0.827325</td>\n",
              "      <td>40.924626</td>\n",
              "      <td>0.007402</td>\n",
              "    </tr>\n",
              "    <tr>\n",
              "      <th>(3, 1)</th>\n",
              "      <td>0.536044</td>\n",
              "      <td>3</td>\n",
              "      <td>LVQ1 + LVQ2.1 + k-NN sem peso</td>\n",
              "      <td>0.331602</td>\n",
              "      <td>0.184035</td>\n",
              "      <td>0.590361</td>\n",
              "      <td>0.777051</td>\n",
              "      <td>41.411979</td>\n",
              "      <td>0.007657</td>\n",
              "    </tr>\n",
              "    <tr>\n",
              "      <th>(5, 1)</th>\n",
              "      <td>0.620476</td>\n",
              "      <td>5</td>\n",
              "      <td>LVQ1 + LVQ2.1 + k-NN sem peso</td>\n",
              "      <td>0.129437</td>\n",
              "      <td>0.184167</td>\n",
              "      <td>0.746988</td>\n",
              "      <td>0.763723</td>\n",
              "      <td>41.368147</td>\n",
              "      <td>0.007728</td>\n",
              "    </tr>\n",
              "    <tr>\n",
              "      <th>(1, 2)</th>\n",
              "      <td>0.608810</td>\n",
              "      <td>1</td>\n",
              "      <td>LVQ1 + LVQ3 + k-NN sem peso</td>\n",
              "      <td>0.880087</td>\n",
              "      <td>0.357546</td>\n",
              "      <td>0.539759</td>\n",
              "      <td>0.949700</td>\n",
              "      <td>41.312717</td>\n",
              "      <td>0.007751</td>\n",
              "    </tr>\n",
              "    <tr>\n",
              "      <th>(2, 2)</th>\n",
              "      <td>0.810348</td>\n",
              "      <td>2</td>\n",
              "      <td>LVQ1 + LVQ3 + k-NN sem peso</td>\n",
              "      <td>0.158874</td>\n",
              "      <td>0.547619</td>\n",
              "      <td>0.978313</td>\n",
              "      <td>0.818969</td>\n",
              "      <td>41.625420</td>\n",
              "      <td>0.007804</td>\n",
              "    </tr>\n",
              "    <tr>\n",
              "      <th>(3, 2)</th>\n",
              "      <td>0.680385</td>\n",
              "      <td>3</td>\n",
              "      <td>LVQ1 + LVQ3 + k-NN sem peso</td>\n",
              "      <td>0.233766</td>\n",
              "      <td>0.301808</td>\n",
              "      <td>0.795181</td>\n",
              "      <td>0.798972</td>\n",
              "      <td>41.840155</td>\n",
              "      <td>0.007904</td>\n",
              "    </tr>\n",
              "    <tr>\n",
              "      <th>(5, 2)</th>\n",
              "      <td>0.637729</td>\n",
              "      <td>5</td>\n",
              "      <td>LVQ1 + LVQ3 + k-NN sem peso</td>\n",
              "      <td>0.131602</td>\n",
              "      <td>0.318833</td>\n",
              "      <td>0.768675</td>\n",
              "      <td>0.767377</td>\n",
              "      <td>41.492305</td>\n",
              "      <td>0.008337</td>\n",
              "    </tr>\n",
              "  </tbody>\n",
              "</table>\n",
              "</div>"
            ],
            "text/plain": [
              "        taxa de acerto  valor de k  ... tempo treino  tempo teste\n",
              "(1, 0)        0.613242           1  ...    38.433891     0.007801\n",
              "(2, 0)        0.814139           2  ...    38.843959     0.009554\n",
              "(3, 0)        0.693370           3  ...    38.296497     0.007681\n",
              "(5, 0)        0.592070           5  ...    38.984968     0.007674\n",
              "(1, 1)        0.585714           1  ...    41.510187     0.007535\n",
              "(2, 1)        0.794945           2  ...    40.924626     0.007402\n",
              "(3, 1)        0.536044           3  ...    41.411979     0.007657\n",
              "(5, 1)        0.620476           5  ...    41.368147     0.007728\n",
              "(1, 2)        0.608810           1  ...    41.312717     0.007751\n",
              "(2, 2)        0.810348           2  ...    41.625420     0.007804\n",
              "(3, 2)        0.680385           3  ...    41.840155     0.007904\n",
              "(5, 2)        0.637729           5  ...    41.492305     0.008337\n",
              "\n",
              "[12 rows x 9 columns]"
            ]
          },
          "metadata": {
            "tags": []
          },
          "execution_count": 45
        }
      ]
    },
    {
      "cell_type": "code",
      "metadata": {
        "colab": {
          "base_uri": "https://localhost:8080/",
          "height": 753
        },
        "id": "RJyVzn7lKuya",
        "outputId": "30b4abf1-ef83-4003-ea6a-c513f3014905"
      },
      "source": [
        "sns.set(style=\"ticks\")\n",
        "sns.set(rc={'figure.figsize':(16,12)})\n",
        "sns.set_style(\"darkgrid\")\n",
        "sns.set(font=\"DeJavu Serif\",font_scale=1.5)\n",
        "g = sns.lineplot(data=df, x=\"valor de k\", y=\"taxa de acerto\",marker='o',hue=\"k-NN\")\n",
        "g.set_xticks(k_list) # <--- set the ticks first\n",
        "plt.title('Taxa de acerto para diferentes valores de k do classificador k-NN com ' + str(n) + ' protótipos')\n",
        "plt.grid(True)  #just add this\n",
        "plt.show()"
      ],
      "execution_count": null,
      "outputs": [
        {
          "output_type": "display_data",
          "data": {
            "image/png": "[encoded data removed]",
            "text/plain": [
              "<Figure size 1152x864 with 1 Axes>"
            ]
          },
          "metadata": {
            "tags": []
          }
        }
      ]
    },
    {
      "cell_type": "code",
      "metadata": {
        "colab": {
          "base_uri": "https://localhost:8080/",
          "height": 753
        },
        "id": "Q9b59A0Dm6yJ",
        "outputId": "12af7bec-c979-4e1e-de7a-f437fe1ee126"
      },
      "source": [
        "sns.set(style=\"ticks\")\n",
        "sns.set(rc={'figure.figsize':(16,12)})\n",
        "sns.set_style(\"darkgrid\")\n",
        "sns.set(font=\"DeJavu Serif\",font_scale=1.5)\n",
        "g = sns.lineplot(data=df, x=\"valor de k\", y=\"tempo treino\",marker='o',hue=\"k-NN\")\n",
        "g.set_xticks(k_list) # <--- set the ticks first\n",
        "plt.title('Tempo de treinamento para diferentes valores de k do classificador k-NN com ' + str(n) + ' protótipos')\n",
        "plt.grid(True)  #just add this\n",
        "plt.show()"
      ],
      "execution_count": null,
      "outputs": [
        {
          "output_type": "display_data",
          "data": {
            "image/png": "[encoded data removed]",
            "text/plain": [
              "<Figure size 1152x864 with 1 Axes>"
            ]
          },
          "metadata": {
            "tags": []
          }
        }
      ]
    },
    {
      "cell_type": "code",
      "metadata": {
        "colab": {
          "base_uri": "https://localhost:8080/",
          "height": 753
        },
        "id": "j5-9QZ_zv5eI",
        "outputId": "372a1fce-795e-43cd-8fbd-b9f77f810089"
      },
      "source": [
        "sns.set(style=\"ticks\")\n",
        "sns.set(rc={'figure.figsize':(16,12)})\n",
        "sns.set_style(\"darkgrid\")\n",
        "sns.set(font=\"DeJavu Serif\",font_scale=1.5)\n",
        "g = sns.lineplot(data=df, x=\"valor de k\", y=\"tempo teste\",marker='o',hue=\"k-NN\")\n",
        "g.set_xticks(k_list) # <--- set the ticks first\n",
        "plt.title('Tempo de teste para diferentes valores de k do classificador k-NN com ' + str(n) + ' protótipos')\n",
        "plt.grid(True)  #just add this\n",
        "plt.show()"
      ],
      "execution_count": null,
      "outputs": [
        {
          "output_type": "display_data",
          "data": {
            "image/png": "[encoded data removed]",
            "text/plain": [
              "<Figure size 1152x864 with 1 Axes>"
            ]
          },
          "metadata": {
            "tags": []
          }
        }
      ]
    }
  ]
}